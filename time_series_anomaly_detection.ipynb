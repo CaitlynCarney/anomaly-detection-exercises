{
 "cells": [
  {
   "cell_type": "code",
   "execution_count": 2,
   "metadata": {},
   "outputs": [],
   "source": [
    "import pandas as pd\n",
    "import numpy as np\n",
    "\n",
    "import matplotlib.pyplot as plt\n",
    "import seaborn as sns\n",
    "\n",
    "import env"
   ]
  },
  {
   "cell_type": "markdown",
   "metadata": {},
   "source": [
    "# Acquire the Data"
   ]
  },
  {
   "cell_type": "code",
   "execution_count": 3,
   "metadata": {},
   "outputs": [],
   "source": [
    "def get_connection(db, user=env.user, host=env.host, password=env.password):\n",
    "    \n",
    "    return f'mysql+pymysql://{user}:{password}@{host}/{db}'"
   ]
  },
  {
   "cell_type": "code",
   "execution_count": 4,
   "metadata": {},
   "outputs": [],
   "source": [
    "def acquire_codeup():\n",
    "    '''\n",
    "    Grab our data from path and read as dataframe\n",
    "    '''\n",
    "    \n",
    "    df = pd.read_sql('''\n",
    "                        select *\n",
    "                        from logs\n",
    "                        join cohorts on logs.cohort_id = cohorts.id''', get_connection('curriculum_logs'))\n",
    "    return df"
   ]
  },
  {
   "cell_type": "code",
   "execution_count": 5,
   "metadata": {},
   "outputs": [
    {
     "data": {
      "text/html": [
       "<div>\n",
       "<style scoped>\n",
       "    .dataframe tbody tr th:only-of-type {\n",
       "        vertical-align: middle;\n",
       "    }\n",
       "\n",
       "    .dataframe tbody tr th {\n",
       "        vertical-align: top;\n",
       "    }\n",
       "\n",
       "    .dataframe thead th {\n",
       "        text-align: right;\n",
       "    }\n",
       "</style>\n",
       "<table border=\"1\" class=\"dataframe\">\n",
       "  <thead>\n",
       "    <tr style=\"text-align: right;\">\n",
       "      <th></th>\n",
       "      <th>date</th>\n",
       "      <th>time</th>\n",
       "      <th>path</th>\n",
       "      <th>user_id</th>\n",
       "      <th>cohort_id</th>\n",
       "      <th>ip</th>\n",
       "      <th>id</th>\n",
       "      <th>name</th>\n",
       "      <th>slack</th>\n",
       "      <th>start_date</th>\n",
       "      <th>end_date</th>\n",
       "      <th>created_at</th>\n",
       "      <th>updated_at</th>\n",
       "      <th>deleted_at</th>\n",
       "      <th>program_id</th>\n",
       "    </tr>\n",
       "  </thead>\n",
       "  <tbody>\n",
       "    <tr>\n",
       "      <th>0</th>\n",
       "      <td>2018-01-26</td>\n",
       "      <td>09:55:03</td>\n",
       "      <td>/</td>\n",
       "      <td>1</td>\n",
       "      <td>8.0</td>\n",
       "      <td>97.105.19.61</td>\n",
       "      <td>8</td>\n",
       "      <td>Hampton</td>\n",
       "      <td>#hampton</td>\n",
       "      <td>2015-09-22</td>\n",
       "      <td>2016-02-06</td>\n",
       "      <td>2016-06-14 19:52:26</td>\n",
       "      <td>2016-06-14 19:52:26</td>\n",
       "      <td>None</td>\n",
       "      <td>1</td>\n",
       "    </tr>\n",
       "    <tr>\n",
       "      <th>1</th>\n",
       "      <td>2018-01-26</td>\n",
       "      <td>09:56:02</td>\n",
       "      <td>java-ii</td>\n",
       "      <td>1</td>\n",
       "      <td>8.0</td>\n",
       "      <td>97.105.19.61</td>\n",
       "      <td>8</td>\n",
       "      <td>Hampton</td>\n",
       "      <td>#hampton</td>\n",
       "      <td>2015-09-22</td>\n",
       "      <td>2016-02-06</td>\n",
       "      <td>2016-06-14 19:52:26</td>\n",
       "      <td>2016-06-14 19:52:26</td>\n",
       "      <td>None</td>\n",
       "      <td>1</td>\n",
       "    </tr>\n",
       "    <tr>\n",
       "      <th>2</th>\n",
       "      <td>2018-01-26</td>\n",
       "      <td>09:56:05</td>\n",
       "      <td>java-ii/object-oriented-programming</td>\n",
       "      <td>1</td>\n",
       "      <td>8.0</td>\n",
       "      <td>97.105.19.61</td>\n",
       "      <td>8</td>\n",
       "      <td>Hampton</td>\n",
       "      <td>#hampton</td>\n",
       "      <td>2015-09-22</td>\n",
       "      <td>2016-02-06</td>\n",
       "      <td>2016-06-14 19:52:26</td>\n",
       "      <td>2016-06-14 19:52:26</td>\n",
       "      <td>None</td>\n",
       "      <td>1</td>\n",
       "    </tr>\n",
       "    <tr>\n",
       "      <th>3</th>\n",
       "      <td>2018-01-26</td>\n",
       "      <td>09:56:06</td>\n",
       "      <td>slides/object_oriented_programming</td>\n",
       "      <td>1</td>\n",
       "      <td>8.0</td>\n",
       "      <td>97.105.19.61</td>\n",
       "      <td>8</td>\n",
       "      <td>Hampton</td>\n",
       "      <td>#hampton</td>\n",
       "      <td>2015-09-22</td>\n",
       "      <td>2016-02-06</td>\n",
       "      <td>2016-06-14 19:52:26</td>\n",
       "      <td>2016-06-14 19:52:26</td>\n",
       "      <td>None</td>\n",
       "      <td>1</td>\n",
       "    </tr>\n",
       "    <tr>\n",
       "      <th>4</th>\n",
       "      <td>2018-01-26</td>\n",
       "      <td>09:56:24</td>\n",
       "      <td>javascript-i/conditionals</td>\n",
       "      <td>2</td>\n",
       "      <td>22.0</td>\n",
       "      <td>97.105.19.61</td>\n",
       "      <td>22</td>\n",
       "      <td>Teddy</td>\n",
       "      <td>#teddy</td>\n",
       "      <td>2018-01-08</td>\n",
       "      <td>2018-05-17</td>\n",
       "      <td>2018-01-08 13:59:10</td>\n",
       "      <td>2018-01-08 13:59:10</td>\n",
       "      <td>None</td>\n",
       "      <td>2</td>\n",
       "    </tr>\n",
       "  </tbody>\n",
       "</table>\n",
       "</div>"
      ],
      "text/plain": [
       "         date      time                                 path  user_id  \\\n",
       "0  2018-01-26  09:55:03                                    /        1   \n",
       "1  2018-01-26  09:56:02                              java-ii        1   \n",
       "2  2018-01-26  09:56:05  java-ii/object-oriented-programming        1   \n",
       "3  2018-01-26  09:56:06   slides/object_oriented_programming        1   \n",
       "4  2018-01-26  09:56:24            javascript-i/conditionals        2   \n",
       "\n",
       "   cohort_id            ip  id     name     slack  start_date    end_date  \\\n",
       "0        8.0  97.105.19.61   8  Hampton  #hampton  2015-09-22  2016-02-06   \n",
       "1        8.0  97.105.19.61   8  Hampton  #hampton  2015-09-22  2016-02-06   \n",
       "2        8.0  97.105.19.61   8  Hampton  #hampton  2015-09-22  2016-02-06   \n",
       "3        8.0  97.105.19.61   8  Hampton  #hampton  2015-09-22  2016-02-06   \n",
       "4       22.0  97.105.19.61  22    Teddy    #teddy  2018-01-08  2018-05-17   \n",
       "\n",
       "            created_at           updated_at deleted_at  program_id  \n",
       "0  2016-06-14 19:52:26  2016-06-14 19:52:26       None           1  \n",
       "1  2016-06-14 19:52:26  2016-06-14 19:52:26       None           1  \n",
       "2  2016-06-14 19:52:26  2016-06-14 19:52:26       None           1  \n",
       "3  2016-06-14 19:52:26  2016-06-14 19:52:26       None           1  \n",
       "4  2018-01-08 13:59:10  2018-01-08 13:59:10       None           2  "
      ]
     },
     "execution_count": 5,
     "metadata": {},
     "output_type": "execute_result"
    }
   ],
   "source": [
    "df = acquire_codeup()\n",
    "df.head()"
   ]
  },
  {
   "cell_type": "markdown",
   "metadata": {},
   "source": [
    "# Prepare the Data"
   ]
  },
  {
   "cell_type": "code",
   "execution_count": 6,
   "metadata": {},
   "outputs": [
    {
     "data": {
      "text/plain": [
       "(847330, 15)"
      ]
     },
     "execution_count": 6,
     "metadata": {},
     "output_type": "execute_result"
    }
   ],
   "source": [
    "df.shape"
   ]
  },
  {
   "cell_type": "markdown",
   "metadata": {},
   "source": [
    "Rename:\n",
    "- name to cohort_name\n",
    "    - so not to get confused wiht other names\n",
    "- ip to ip_address\n",
    "    - just for me\n",
    "- path to webpage_accessed\n",
    "    - because I like it\n",
    "- id to class_type_id\n",
    "    - specifies what it is"
   ]
  },
  {
   "cell_type": "code",
   "execution_count": 7,
   "metadata": {},
   "outputs": [],
   "source": [
    "df = df.rename(columns={'ip':'ip_address', 'name':'cohort_name', \n",
    "                        'path':'webpage_accessed'})"
   ]
  },
  {
   "cell_type": "code",
   "execution_count": 8,
   "metadata": {},
   "outputs": [
    {
     "data": {
      "text/html": [
       "<div>\n",
       "<style scoped>\n",
       "    .dataframe tbody tr th:only-of-type {\n",
       "        vertical-align: middle;\n",
       "    }\n",
       "\n",
       "    .dataframe tbody tr th {\n",
       "        vertical-align: top;\n",
       "    }\n",
       "\n",
       "    .dataframe thead th {\n",
       "        text-align: right;\n",
       "    }\n",
       "</style>\n",
       "<table border=\"1\" class=\"dataframe\">\n",
       "  <thead>\n",
       "    <tr style=\"text-align: right;\">\n",
       "      <th></th>\n",
       "      <th>date</th>\n",
       "      <th>time</th>\n",
       "      <th>webpage_accessed</th>\n",
       "      <th>user_id</th>\n",
       "      <th>cohort_id</th>\n",
       "      <th>ip_address</th>\n",
       "      <th>id</th>\n",
       "      <th>cohort_name</th>\n",
       "      <th>slack</th>\n",
       "      <th>start_date</th>\n",
       "      <th>end_date</th>\n",
       "      <th>created_at</th>\n",
       "      <th>updated_at</th>\n",
       "      <th>deleted_at</th>\n",
       "      <th>program_id</th>\n",
       "    </tr>\n",
       "  </thead>\n",
       "  <tbody>\n",
       "    <tr>\n",
       "      <th>0</th>\n",
       "      <td>2018-01-26</td>\n",
       "      <td>09:55:03</td>\n",
       "      <td>/</td>\n",
       "      <td>1</td>\n",
       "      <td>8.0</td>\n",
       "      <td>97.105.19.61</td>\n",
       "      <td>8</td>\n",
       "      <td>Hampton</td>\n",
       "      <td>#hampton</td>\n",
       "      <td>2015-09-22</td>\n",
       "      <td>2016-02-06</td>\n",
       "      <td>2016-06-14 19:52:26</td>\n",
       "      <td>2016-06-14 19:52:26</td>\n",
       "      <td>None</td>\n",
       "      <td>1</td>\n",
       "    </tr>\n",
       "    <tr>\n",
       "      <th>1</th>\n",
       "      <td>2018-01-26</td>\n",
       "      <td>09:56:02</td>\n",
       "      <td>java-ii</td>\n",
       "      <td>1</td>\n",
       "      <td>8.0</td>\n",
       "      <td>97.105.19.61</td>\n",
       "      <td>8</td>\n",
       "      <td>Hampton</td>\n",
       "      <td>#hampton</td>\n",
       "      <td>2015-09-22</td>\n",
       "      <td>2016-02-06</td>\n",
       "      <td>2016-06-14 19:52:26</td>\n",
       "      <td>2016-06-14 19:52:26</td>\n",
       "      <td>None</td>\n",
       "      <td>1</td>\n",
       "    </tr>\n",
       "    <tr>\n",
       "      <th>2</th>\n",
       "      <td>2018-01-26</td>\n",
       "      <td>09:56:05</td>\n",
       "      <td>java-ii/object-oriented-programming</td>\n",
       "      <td>1</td>\n",
       "      <td>8.0</td>\n",
       "      <td>97.105.19.61</td>\n",
       "      <td>8</td>\n",
       "      <td>Hampton</td>\n",
       "      <td>#hampton</td>\n",
       "      <td>2015-09-22</td>\n",
       "      <td>2016-02-06</td>\n",
       "      <td>2016-06-14 19:52:26</td>\n",
       "      <td>2016-06-14 19:52:26</td>\n",
       "      <td>None</td>\n",
       "      <td>1</td>\n",
       "    </tr>\n",
       "    <tr>\n",
       "      <th>3</th>\n",
       "      <td>2018-01-26</td>\n",
       "      <td>09:56:06</td>\n",
       "      <td>slides/object_oriented_programming</td>\n",
       "      <td>1</td>\n",
       "      <td>8.0</td>\n",
       "      <td>97.105.19.61</td>\n",
       "      <td>8</td>\n",
       "      <td>Hampton</td>\n",
       "      <td>#hampton</td>\n",
       "      <td>2015-09-22</td>\n",
       "      <td>2016-02-06</td>\n",
       "      <td>2016-06-14 19:52:26</td>\n",
       "      <td>2016-06-14 19:52:26</td>\n",
       "      <td>None</td>\n",
       "      <td>1</td>\n",
       "    </tr>\n",
       "    <tr>\n",
       "      <th>4</th>\n",
       "      <td>2018-01-26</td>\n",
       "      <td>09:56:24</td>\n",
       "      <td>javascript-i/conditionals</td>\n",
       "      <td>2</td>\n",
       "      <td>22.0</td>\n",
       "      <td>97.105.19.61</td>\n",
       "      <td>22</td>\n",
       "      <td>Teddy</td>\n",
       "      <td>#teddy</td>\n",
       "      <td>2018-01-08</td>\n",
       "      <td>2018-05-17</td>\n",
       "      <td>2018-01-08 13:59:10</td>\n",
       "      <td>2018-01-08 13:59:10</td>\n",
       "      <td>None</td>\n",
       "      <td>2</td>\n",
       "    </tr>\n",
       "  </tbody>\n",
       "</table>\n",
       "</div>"
      ],
      "text/plain": [
       "         date      time                     webpage_accessed  user_id  \\\n",
       "0  2018-01-26  09:55:03                                    /        1   \n",
       "1  2018-01-26  09:56:02                              java-ii        1   \n",
       "2  2018-01-26  09:56:05  java-ii/object-oriented-programming        1   \n",
       "3  2018-01-26  09:56:06   slides/object_oriented_programming        1   \n",
       "4  2018-01-26  09:56:24            javascript-i/conditionals        2   \n",
       "\n",
       "   cohort_id    ip_address  id cohort_name     slack  start_date    end_date  \\\n",
       "0        8.0  97.105.19.61   8     Hampton  #hampton  2015-09-22  2016-02-06   \n",
       "1        8.0  97.105.19.61   8     Hampton  #hampton  2015-09-22  2016-02-06   \n",
       "2        8.0  97.105.19.61   8     Hampton  #hampton  2015-09-22  2016-02-06   \n",
       "3        8.0  97.105.19.61   8     Hampton  #hampton  2015-09-22  2016-02-06   \n",
       "4       22.0  97.105.19.61  22       Teddy    #teddy  2018-01-08  2018-05-17   \n",
       "\n",
       "            created_at           updated_at deleted_at  program_id  \n",
       "0  2016-06-14 19:52:26  2016-06-14 19:52:26       None           1  \n",
       "1  2016-06-14 19:52:26  2016-06-14 19:52:26       None           1  \n",
       "2  2016-06-14 19:52:26  2016-06-14 19:52:26       None           1  \n",
       "3  2016-06-14 19:52:26  2016-06-14 19:52:26       None           1  \n",
       "4  2018-01-08 13:59:10  2018-01-08 13:59:10       None           2  "
      ]
     },
     "execution_count": 8,
     "metadata": {},
     "output_type": "execute_result"
    }
   ],
   "source": [
    "df.head()"
   ]
  },
  {
   "cell_type": "markdown",
   "metadata": {},
   "source": [
    "- Merge the date and time together and make the new datetime format the index"
   ]
  },
  {
   "cell_type": "code",
   "execution_count": 9,
   "metadata": {},
   "outputs": [],
   "source": [
    "df.index = pd.to_datetime(df.date + \" \" + df.time)"
   ]
  },
  {
   "cell_type": "code",
   "execution_count": 10,
   "metadata": {},
   "outputs": [
    {
     "data": {
      "text/html": [
       "<div>\n",
       "<style scoped>\n",
       "    .dataframe tbody tr th:only-of-type {\n",
       "        vertical-align: middle;\n",
       "    }\n",
       "\n",
       "    .dataframe tbody tr th {\n",
       "        vertical-align: top;\n",
       "    }\n",
       "\n",
       "    .dataframe thead th {\n",
       "        text-align: right;\n",
       "    }\n",
       "</style>\n",
       "<table border=\"1\" class=\"dataframe\">\n",
       "  <thead>\n",
       "    <tr style=\"text-align: right;\">\n",
       "      <th></th>\n",
       "      <th>date</th>\n",
       "      <th>time</th>\n",
       "      <th>webpage_accessed</th>\n",
       "      <th>user_id</th>\n",
       "      <th>cohort_id</th>\n",
       "      <th>ip_address</th>\n",
       "      <th>id</th>\n",
       "      <th>cohort_name</th>\n",
       "      <th>slack</th>\n",
       "      <th>start_date</th>\n",
       "      <th>end_date</th>\n",
       "      <th>created_at</th>\n",
       "      <th>updated_at</th>\n",
       "      <th>deleted_at</th>\n",
       "      <th>program_id</th>\n",
       "    </tr>\n",
       "  </thead>\n",
       "  <tbody>\n",
       "    <tr>\n",
       "      <th>2018-01-26 09:55:03</th>\n",
       "      <td>2018-01-26</td>\n",
       "      <td>09:55:03</td>\n",
       "      <td>/</td>\n",
       "      <td>1</td>\n",
       "      <td>8.0</td>\n",
       "      <td>97.105.19.61</td>\n",
       "      <td>8</td>\n",
       "      <td>Hampton</td>\n",
       "      <td>#hampton</td>\n",
       "      <td>2015-09-22</td>\n",
       "      <td>2016-02-06</td>\n",
       "      <td>2016-06-14 19:52:26</td>\n",
       "      <td>2016-06-14 19:52:26</td>\n",
       "      <td>None</td>\n",
       "      <td>1</td>\n",
       "    </tr>\n",
       "    <tr>\n",
       "      <th>2018-01-26 09:56:02</th>\n",
       "      <td>2018-01-26</td>\n",
       "      <td>09:56:02</td>\n",
       "      <td>java-ii</td>\n",
       "      <td>1</td>\n",
       "      <td>8.0</td>\n",
       "      <td>97.105.19.61</td>\n",
       "      <td>8</td>\n",
       "      <td>Hampton</td>\n",
       "      <td>#hampton</td>\n",
       "      <td>2015-09-22</td>\n",
       "      <td>2016-02-06</td>\n",
       "      <td>2016-06-14 19:52:26</td>\n",
       "      <td>2016-06-14 19:52:26</td>\n",
       "      <td>None</td>\n",
       "      <td>1</td>\n",
       "    </tr>\n",
       "    <tr>\n",
       "      <th>2018-01-26 09:56:05</th>\n",
       "      <td>2018-01-26</td>\n",
       "      <td>09:56:05</td>\n",
       "      <td>java-ii/object-oriented-programming</td>\n",
       "      <td>1</td>\n",
       "      <td>8.0</td>\n",
       "      <td>97.105.19.61</td>\n",
       "      <td>8</td>\n",
       "      <td>Hampton</td>\n",
       "      <td>#hampton</td>\n",
       "      <td>2015-09-22</td>\n",
       "      <td>2016-02-06</td>\n",
       "      <td>2016-06-14 19:52:26</td>\n",
       "      <td>2016-06-14 19:52:26</td>\n",
       "      <td>None</td>\n",
       "      <td>1</td>\n",
       "    </tr>\n",
       "    <tr>\n",
       "      <th>2018-01-26 09:56:06</th>\n",
       "      <td>2018-01-26</td>\n",
       "      <td>09:56:06</td>\n",
       "      <td>slides/object_oriented_programming</td>\n",
       "      <td>1</td>\n",
       "      <td>8.0</td>\n",
       "      <td>97.105.19.61</td>\n",
       "      <td>8</td>\n",
       "      <td>Hampton</td>\n",
       "      <td>#hampton</td>\n",
       "      <td>2015-09-22</td>\n",
       "      <td>2016-02-06</td>\n",
       "      <td>2016-06-14 19:52:26</td>\n",
       "      <td>2016-06-14 19:52:26</td>\n",
       "      <td>None</td>\n",
       "      <td>1</td>\n",
       "    </tr>\n",
       "    <tr>\n",
       "      <th>2018-01-26 09:56:24</th>\n",
       "      <td>2018-01-26</td>\n",
       "      <td>09:56:24</td>\n",
       "      <td>javascript-i/conditionals</td>\n",
       "      <td>2</td>\n",
       "      <td>22.0</td>\n",
       "      <td>97.105.19.61</td>\n",
       "      <td>22</td>\n",
       "      <td>Teddy</td>\n",
       "      <td>#teddy</td>\n",
       "      <td>2018-01-08</td>\n",
       "      <td>2018-05-17</td>\n",
       "      <td>2018-01-08 13:59:10</td>\n",
       "      <td>2018-01-08 13:59:10</td>\n",
       "      <td>None</td>\n",
       "      <td>2</td>\n",
       "    </tr>\n",
       "  </tbody>\n",
       "</table>\n",
       "</div>"
      ],
      "text/plain": [
       "                           date      time  \\\n",
       "2018-01-26 09:55:03  2018-01-26  09:55:03   \n",
       "2018-01-26 09:56:02  2018-01-26  09:56:02   \n",
       "2018-01-26 09:56:05  2018-01-26  09:56:05   \n",
       "2018-01-26 09:56:06  2018-01-26  09:56:06   \n",
       "2018-01-26 09:56:24  2018-01-26  09:56:24   \n",
       "\n",
       "                                        webpage_accessed  user_id  cohort_id  \\\n",
       "2018-01-26 09:55:03                                    /        1        8.0   \n",
       "2018-01-26 09:56:02                              java-ii        1        8.0   \n",
       "2018-01-26 09:56:05  java-ii/object-oriented-programming        1        8.0   \n",
       "2018-01-26 09:56:06   slides/object_oriented_programming        1        8.0   \n",
       "2018-01-26 09:56:24            javascript-i/conditionals        2       22.0   \n",
       "\n",
       "                       ip_address  id cohort_name     slack  start_date  \\\n",
       "2018-01-26 09:55:03  97.105.19.61   8     Hampton  #hampton  2015-09-22   \n",
       "2018-01-26 09:56:02  97.105.19.61   8     Hampton  #hampton  2015-09-22   \n",
       "2018-01-26 09:56:05  97.105.19.61   8     Hampton  #hampton  2015-09-22   \n",
       "2018-01-26 09:56:06  97.105.19.61   8     Hampton  #hampton  2015-09-22   \n",
       "2018-01-26 09:56:24  97.105.19.61  22       Teddy    #teddy  2018-01-08   \n",
       "\n",
       "                       end_date           created_at           updated_at  \\\n",
       "2018-01-26 09:55:03  2016-02-06  2016-06-14 19:52:26  2016-06-14 19:52:26   \n",
       "2018-01-26 09:56:02  2016-02-06  2016-06-14 19:52:26  2016-06-14 19:52:26   \n",
       "2018-01-26 09:56:05  2016-02-06  2016-06-14 19:52:26  2016-06-14 19:52:26   \n",
       "2018-01-26 09:56:06  2016-02-06  2016-06-14 19:52:26  2016-06-14 19:52:26   \n",
       "2018-01-26 09:56:24  2018-05-17  2018-01-08 13:59:10  2018-01-08 13:59:10   \n",
       "\n",
       "                    deleted_at  program_id  \n",
       "2018-01-26 09:55:03       None           1  \n",
       "2018-01-26 09:56:02       None           1  \n",
       "2018-01-26 09:56:05       None           1  \n",
       "2018-01-26 09:56:06       None           1  \n",
       "2018-01-26 09:56:24       None           2  "
      ]
     },
     "execution_count": 10,
     "metadata": {},
     "output_type": "execute_result"
    }
   ],
   "source": [
    "df.head()"
   ]
  },
  {
   "cell_type": "markdown",
   "metadata": {},
   "source": [
    "- Drop the left over date and time features because we now have them both under index"
   ]
  },
  {
   "cell_type": "code",
   "execution_count": 11,
   "metadata": {},
   "outputs": [],
   "source": [
    "df = df.drop(columns=['date','time'], axis=1)"
   ]
  },
  {
   "cell_type": "code",
   "execution_count": 12,
   "metadata": {},
   "outputs": [
    {
     "data": {
      "text/html": [
       "<div>\n",
       "<style scoped>\n",
       "    .dataframe tbody tr th:only-of-type {\n",
       "        vertical-align: middle;\n",
       "    }\n",
       "\n",
       "    .dataframe tbody tr th {\n",
       "        vertical-align: top;\n",
       "    }\n",
       "\n",
       "    .dataframe thead th {\n",
       "        text-align: right;\n",
       "    }\n",
       "</style>\n",
       "<table border=\"1\" class=\"dataframe\">\n",
       "  <thead>\n",
       "    <tr style=\"text-align: right;\">\n",
       "      <th></th>\n",
       "      <th>webpage_accessed</th>\n",
       "      <th>user_id</th>\n",
       "      <th>cohort_id</th>\n",
       "      <th>ip_address</th>\n",
       "      <th>id</th>\n",
       "      <th>cohort_name</th>\n",
       "      <th>slack</th>\n",
       "      <th>start_date</th>\n",
       "      <th>end_date</th>\n",
       "      <th>created_at</th>\n",
       "      <th>updated_at</th>\n",
       "      <th>deleted_at</th>\n",
       "      <th>program_id</th>\n",
       "    </tr>\n",
       "  </thead>\n",
       "  <tbody>\n",
       "    <tr>\n",
       "      <th>2018-01-26 09:55:03</th>\n",
       "      <td>/</td>\n",
       "      <td>1</td>\n",
       "      <td>8.0</td>\n",
       "      <td>97.105.19.61</td>\n",
       "      <td>8</td>\n",
       "      <td>Hampton</td>\n",
       "      <td>#hampton</td>\n",
       "      <td>2015-09-22</td>\n",
       "      <td>2016-02-06</td>\n",
       "      <td>2016-06-14 19:52:26</td>\n",
       "      <td>2016-06-14 19:52:26</td>\n",
       "      <td>None</td>\n",
       "      <td>1</td>\n",
       "    </tr>\n",
       "    <tr>\n",
       "      <th>2018-01-26 09:56:02</th>\n",
       "      <td>java-ii</td>\n",
       "      <td>1</td>\n",
       "      <td>8.0</td>\n",
       "      <td>97.105.19.61</td>\n",
       "      <td>8</td>\n",
       "      <td>Hampton</td>\n",
       "      <td>#hampton</td>\n",
       "      <td>2015-09-22</td>\n",
       "      <td>2016-02-06</td>\n",
       "      <td>2016-06-14 19:52:26</td>\n",
       "      <td>2016-06-14 19:52:26</td>\n",
       "      <td>None</td>\n",
       "      <td>1</td>\n",
       "    </tr>\n",
       "    <tr>\n",
       "      <th>2018-01-26 09:56:05</th>\n",
       "      <td>java-ii/object-oriented-programming</td>\n",
       "      <td>1</td>\n",
       "      <td>8.0</td>\n",
       "      <td>97.105.19.61</td>\n",
       "      <td>8</td>\n",
       "      <td>Hampton</td>\n",
       "      <td>#hampton</td>\n",
       "      <td>2015-09-22</td>\n",
       "      <td>2016-02-06</td>\n",
       "      <td>2016-06-14 19:52:26</td>\n",
       "      <td>2016-06-14 19:52:26</td>\n",
       "      <td>None</td>\n",
       "      <td>1</td>\n",
       "    </tr>\n",
       "    <tr>\n",
       "      <th>2018-01-26 09:56:06</th>\n",
       "      <td>slides/object_oriented_programming</td>\n",
       "      <td>1</td>\n",
       "      <td>8.0</td>\n",
       "      <td>97.105.19.61</td>\n",
       "      <td>8</td>\n",
       "      <td>Hampton</td>\n",
       "      <td>#hampton</td>\n",
       "      <td>2015-09-22</td>\n",
       "      <td>2016-02-06</td>\n",
       "      <td>2016-06-14 19:52:26</td>\n",
       "      <td>2016-06-14 19:52:26</td>\n",
       "      <td>None</td>\n",
       "      <td>1</td>\n",
       "    </tr>\n",
       "    <tr>\n",
       "      <th>2018-01-26 09:56:24</th>\n",
       "      <td>javascript-i/conditionals</td>\n",
       "      <td>2</td>\n",
       "      <td>22.0</td>\n",
       "      <td>97.105.19.61</td>\n",
       "      <td>22</td>\n",
       "      <td>Teddy</td>\n",
       "      <td>#teddy</td>\n",
       "      <td>2018-01-08</td>\n",
       "      <td>2018-05-17</td>\n",
       "      <td>2018-01-08 13:59:10</td>\n",
       "      <td>2018-01-08 13:59:10</td>\n",
       "      <td>None</td>\n",
       "      <td>2</td>\n",
       "    </tr>\n",
       "  </tbody>\n",
       "</table>\n",
       "</div>"
      ],
      "text/plain": [
       "                                        webpage_accessed  user_id  cohort_id  \\\n",
       "2018-01-26 09:55:03                                    /        1        8.0   \n",
       "2018-01-26 09:56:02                              java-ii        1        8.0   \n",
       "2018-01-26 09:56:05  java-ii/object-oriented-programming        1        8.0   \n",
       "2018-01-26 09:56:06   slides/object_oriented_programming        1        8.0   \n",
       "2018-01-26 09:56:24            javascript-i/conditionals        2       22.0   \n",
       "\n",
       "                       ip_address  id cohort_name     slack  start_date  \\\n",
       "2018-01-26 09:55:03  97.105.19.61   8     Hampton  #hampton  2015-09-22   \n",
       "2018-01-26 09:56:02  97.105.19.61   8     Hampton  #hampton  2015-09-22   \n",
       "2018-01-26 09:56:05  97.105.19.61   8     Hampton  #hampton  2015-09-22   \n",
       "2018-01-26 09:56:06  97.105.19.61   8     Hampton  #hampton  2015-09-22   \n",
       "2018-01-26 09:56:24  97.105.19.61  22       Teddy    #teddy  2018-01-08   \n",
       "\n",
       "                       end_date           created_at           updated_at  \\\n",
       "2018-01-26 09:55:03  2016-02-06  2016-06-14 19:52:26  2016-06-14 19:52:26   \n",
       "2018-01-26 09:56:02  2016-02-06  2016-06-14 19:52:26  2016-06-14 19:52:26   \n",
       "2018-01-26 09:56:05  2016-02-06  2016-06-14 19:52:26  2016-06-14 19:52:26   \n",
       "2018-01-26 09:56:06  2016-02-06  2016-06-14 19:52:26  2016-06-14 19:52:26   \n",
       "2018-01-26 09:56:24  2018-05-17  2018-01-08 13:59:10  2018-01-08 13:59:10   \n",
       "\n",
       "                    deleted_at  program_id  \n",
       "2018-01-26 09:55:03       None           1  \n",
       "2018-01-26 09:56:02       None           1  \n",
       "2018-01-26 09:56:05       None           1  \n",
       "2018-01-26 09:56:06       None           1  \n",
       "2018-01-26 09:56:24       None           2  "
      ]
     },
     "execution_count": 12,
     "metadata": {},
     "output_type": "execute_result"
    }
   ],
   "source": [
    "df.head()"
   ]
  },
  {
   "cell_type": "code",
   "execution_count": 13,
   "metadata": {},
   "outputs": [
    {
     "data": {
      "text/plain": [
       "webpage_accessed         1\n",
       "user_id                  0\n",
       "cohort_id                0\n",
       "ip_address               0\n",
       "id                       0\n",
       "cohort_name              0\n",
       "slack                    0\n",
       "start_date               0\n",
       "end_date                 0\n",
       "created_at               0\n",
       "updated_at               0\n",
       "deleted_at          847330\n",
       "program_id               0\n",
       "dtype: int64"
      ]
     },
     "execution_count": 13,
     "metadata": {},
     "output_type": "execute_result"
    }
   ],
   "source": [
    "df.isnull().sum()"
   ]
  },
  {
   "cell_type": "markdown",
   "metadata": {},
   "source": [
    "Drop:\n",
    "- slack\n",
    "    - because it is not helpful\n",
    "- created_at \n",
    "    - because it is not helpful\n",
    "- updated_at\n",
    "    - because it is not helpful\n",
    "- deleted_at\n",
    "    - because it is like 98% null values"
   ]
  },
  {
   "cell_type": "code",
   "execution_count": 14,
   "metadata": {},
   "outputs": [
    {
     "data": {
      "text/html": [
       "<div>\n",
       "<style scoped>\n",
       "    .dataframe tbody tr th:only-of-type {\n",
       "        vertical-align: middle;\n",
       "    }\n",
       "\n",
       "    .dataframe tbody tr th {\n",
       "        vertical-align: top;\n",
       "    }\n",
       "\n",
       "    .dataframe thead th {\n",
       "        text-align: right;\n",
       "    }\n",
       "</style>\n",
       "<table border=\"1\" class=\"dataframe\">\n",
       "  <thead>\n",
       "    <tr style=\"text-align: right;\">\n",
       "      <th></th>\n",
       "      <th>webpage_accessed</th>\n",
       "      <th>user_id</th>\n",
       "      <th>cohort_id</th>\n",
       "      <th>ip_address</th>\n",
       "      <th>cohort_name</th>\n",
       "      <th>start_date</th>\n",
       "      <th>end_date</th>\n",
       "      <th>program_id</th>\n",
       "    </tr>\n",
       "  </thead>\n",
       "  <tbody>\n",
       "    <tr>\n",
       "      <th>2018-01-26 09:55:03</th>\n",
       "      <td>/</td>\n",
       "      <td>1</td>\n",
       "      <td>8.0</td>\n",
       "      <td>97.105.19.61</td>\n",
       "      <td>Hampton</td>\n",
       "      <td>2015-09-22</td>\n",
       "      <td>2016-02-06</td>\n",
       "      <td>1</td>\n",
       "    </tr>\n",
       "    <tr>\n",
       "      <th>2018-01-26 09:56:02</th>\n",
       "      <td>java-ii</td>\n",
       "      <td>1</td>\n",
       "      <td>8.0</td>\n",
       "      <td>97.105.19.61</td>\n",
       "      <td>Hampton</td>\n",
       "      <td>2015-09-22</td>\n",
       "      <td>2016-02-06</td>\n",
       "      <td>1</td>\n",
       "    </tr>\n",
       "    <tr>\n",
       "      <th>2018-01-26 09:56:05</th>\n",
       "      <td>java-ii/object-oriented-programming</td>\n",
       "      <td>1</td>\n",
       "      <td>8.0</td>\n",
       "      <td>97.105.19.61</td>\n",
       "      <td>Hampton</td>\n",
       "      <td>2015-09-22</td>\n",
       "      <td>2016-02-06</td>\n",
       "      <td>1</td>\n",
       "    </tr>\n",
       "    <tr>\n",
       "      <th>2018-01-26 09:56:06</th>\n",
       "      <td>slides/object_oriented_programming</td>\n",
       "      <td>1</td>\n",
       "      <td>8.0</td>\n",
       "      <td>97.105.19.61</td>\n",
       "      <td>Hampton</td>\n",
       "      <td>2015-09-22</td>\n",
       "      <td>2016-02-06</td>\n",
       "      <td>1</td>\n",
       "    </tr>\n",
       "    <tr>\n",
       "      <th>2018-01-26 09:56:24</th>\n",
       "      <td>javascript-i/conditionals</td>\n",
       "      <td>2</td>\n",
       "      <td>22.0</td>\n",
       "      <td>97.105.19.61</td>\n",
       "      <td>Teddy</td>\n",
       "      <td>2018-01-08</td>\n",
       "      <td>2018-05-17</td>\n",
       "      <td>2</td>\n",
       "    </tr>\n",
       "  </tbody>\n",
       "</table>\n",
       "</div>"
      ],
      "text/plain": [
       "                                        webpage_accessed  user_id  cohort_id  \\\n",
       "2018-01-26 09:55:03                                    /        1        8.0   \n",
       "2018-01-26 09:56:02                              java-ii        1        8.0   \n",
       "2018-01-26 09:56:05  java-ii/object-oriented-programming        1        8.0   \n",
       "2018-01-26 09:56:06   slides/object_oriented_programming        1        8.0   \n",
       "2018-01-26 09:56:24            javascript-i/conditionals        2       22.0   \n",
       "\n",
       "                       ip_address cohort_name  start_date    end_date  \\\n",
       "2018-01-26 09:55:03  97.105.19.61     Hampton  2015-09-22  2016-02-06   \n",
       "2018-01-26 09:56:02  97.105.19.61     Hampton  2015-09-22  2016-02-06   \n",
       "2018-01-26 09:56:05  97.105.19.61     Hampton  2015-09-22  2016-02-06   \n",
       "2018-01-26 09:56:06  97.105.19.61     Hampton  2015-09-22  2016-02-06   \n",
       "2018-01-26 09:56:24  97.105.19.61       Teddy  2018-01-08  2018-05-17   \n",
       "\n",
       "                     program_id  \n",
       "2018-01-26 09:55:03           1  \n",
       "2018-01-26 09:56:02           1  \n",
       "2018-01-26 09:56:05           1  \n",
       "2018-01-26 09:56:06           1  \n",
       "2018-01-26 09:56:24           2  "
      ]
     },
     "execution_count": 14,
     "metadata": {},
     "output_type": "execute_result"
    }
   ],
   "source": [
    "df = df.drop(['slack', 'created_at', 'updated_at', 'deleted_at', 'id'], axis=1)\n",
    "df.head()"
   ]
  },
  {
   "cell_type": "code",
   "execution_count": 15,
   "metadata": {},
   "outputs": [
    {
     "data": {
      "text/plain": [
       "webpage_accessed    1\n",
       "user_id             0\n",
       "cohort_id           0\n",
       "ip_address          0\n",
       "cohort_name         0\n",
       "start_date          0\n",
       "end_date            0\n",
       "program_id          0\n",
       "dtype: int64"
      ]
     },
     "execution_count": 15,
     "metadata": {},
     "output_type": "execute_result"
    }
   ],
   "source": [
    "df.isnull().sum()"
   ]
  },
  {
   "cell_type": "markdown",
   "metadata": {},
   "source": [
    "- There is one null in webpage\n",
    "    - just going to drop it "
   ]
  },
  {
   "cell_type": "code",
   "execution_count": 16,
   "metadata": {},
   "outputs": [
    {
     "data": {
      "text/plain": [
       "webpage_accessed    0\n",
       "user_id             0\n",
       "cohort_id           0\n",
       "ip_address          0\n",
       "cohort_name         0\n",
       "start_date          0\n",
       "end_date            0\n",
       "program_id          0\n",
       "dtype: int64"
      ]
     },
     "execution_count": 16,
     "metadata": {},
     "output_type": "execute_result"
    }
   ],
   "source": [
    "df = df.dropna()\n",
    "df.isnull().sum()"
   ]
  },
  {
   "cell_type": "markdown",
   "metadata": {},
   "source": [
    "#### class_type_id:\n",
    "- 1\n",
    "    - Full Stack PHP\n",
    "- 2 \n",
    "    - Full Stack Java\n",
    "- 3\n",
    "    - Data Science\n",
    "- 4 \n",
    "    - Front end"
   ]
  },
  {
   "cell_type": "code",
   "execution_count": 17,
   "metadata": {},
   "outputs": [],
   "source": [
    "# create a class type name feature"
   ]
  },
  {
   "cell_type": "code",
   "execution_count": 18,
   "metadata": {},
   "outputs": [],
   "source": [
    "# create a class type name feature\n",
    "df['program_type'] = df.program_id.replace(1,'PHP').replace(2,'Java').replace(3,'Data Science').replace(4,'Front End')"
   ]
  },
  {
   "cell_type": "code",
   "execution_count": 19,
   "metadata": {},
   "outputs": [
    {
     "data": {
      "text/html": [
       "<div>\n",
       "<style scoped>\n",
       "    .dataframe tbody tr th:only-of-type {\n",
       "        vertical-align: middle;\n",
       "    }\n",
       "\n",
       "    .dataframe tbody tr th {\n",
       "        vertical-align: top;\n",
       "    }\n",
       "\n",
       "    .dataframe thead th {\n",
       "        text-align: right;\n",
       "    }\n",
       "</style>\n",
       "<table border=\"1\" class=\"dataframe\">\n",
       "  <thead>\n",
       "    <tr style=\"text-align: right;\">\n",
       "      <th></th>\n",
       "      <th>webpage_accessed</th>\n",
       "      <th>user_id</th>\n",
       "      <th>cohort_id</th>\n",
       "      <th>ip_address</th>\n",
       "      <th>cohort_name</th>\n",
       "      <th>start_date</th>\n",
       "      <th>end_date</th>\n",
       "      <th>program_id</th>\n",
       "      <th>program_type</th>\n",
       "    </tr>\n",
       "  </thead>\n",
       "  <tbody>\n",
       "    <tr>\n",
       "      <th>2018-01-26 09:55:03</th>\n",
       "      <td>/</td>\n",
       "      <td>1</td>\n",
       "      <td>8.0</td>\n",
       "      <td>97.105.19.61</td>\n",
       "      <td>Hampton</td>\n",
       "      <td>2015-09-22</td>\n",
       "      <td>2016-02-06</td>\n",
       "      <td>1</td>\n",
       "      <td>PHP</td>\n",
       "    </tr>\n",
       "    <tr>\n",
       "      <th>2018-01-26 09:56:02</th>\n",
       "      <td>java-ii</td>\n",
       "      <td>1</td>\n",
       "      <td>8.0</td>\n",
       "      <td>97.105.19.61</td>\n",
       "      <td>Hampton</td>\n",
       "      <td>2015-09-22</td>\n",
       "      <td>2016-02-06</td>\n",
       "      <td>1</td>\n",
       "      <td>PHP</td>\n",
       "    </tr>\n",
       "    <tr>\n",
       "      <th>2018-01-26 09:56:05</th>\n",
       "      <td>java-ii/object-oriented-programming</td>\n",
       "      <td>1</td>\n",
       "      <td>8.0</td>\n",
       "      <td>97.105.19.61</td>\n",
       "      <td>Hampton</td>\n",
       "      <td>2015-09-22</td>\n",
       "      <td>2016-02-06</td>\n",
       "      <td>1</td>\n",
       "      <td>PHP</td>\n",
       "    </tr>\n",
       "    <tr>\n",
       "      <th>2018-01-26 09:56:06</th>\n",
       "      <td>slides/object_oriented_programming</td>\n",
       "      <td>1</td>\n",
       "      <td>8.0</td>\n",
       "      <td>97.105.19.61</td>\n",
       "      <td>Hampton</td>\n",
       "      <td>2015-09-22</td>\n",
       "      <td>2016-02-06</td>\n",
       "      <td>1</td>\n",
       "      <td>PHP</td>\n",
       "    </tr>\n",
       "    <tr>\n",
       "      <th>2018-01-26 09:56:24</th>\n",
       "      <td>javascript-i/conditionals</td>\n",
       "      <td>2</td>\n",
       "      <td>22.0</td>\n",
       "      <td>97.105.19.61</td>\n",
       "      <td>Teddy</td>\n",
       "      <td>2018-01-08</td>\n",
       "      <td>2018-05-17</td>\n",
       "      <td>2</td>\n",
       "      <td>Java</td>\n",
       "    </tr>\n",
       "  </tbody>\n",
       "</table>\n",
       "</div>"
      ],
      "text/plain": [
       "                                        webpage_accessed  user_id  cohort_id  \\\n",
       "2018-01-26 09:55:03                                    /        1        8.0   \n",
       "2018-01-26 09:56:02                              java-ii        1        8.0   \n",
       "2018-01-26 09:56:05  java-ii/object-oriented-programming        1        8.0   \n",
       "2018-01-26 09:56:06   slides/object_oriented_programming        1        8.0   \n",
       "2018-01-26 09:56:24            javascript-i/conditionals        2       22.0   \n",
       "\n",
       "                       ip_address cohort_name  start_date    end_date  \\\n",
       "2018-01-26 09:55:03  97.105.19.61     Hampton  2015-09-22  2016-02-06   \n",
       "2018-01-26 09:56:02  97.105.19.61     Hampton  2015-09-22  2016-02-06   \n",
       "2018-01-26 09:56:05  97.105.19.61     Hampton  2015-09-22  2016-02-06   \n",
       "2018-01-26 09:56:06  97.105.19.61     Hampton  2015-09-22  2016-02-06   \n",
       "2018-01-26 09:56:24  97.105.19.61       Teddy  2018-01-08  2018-05-17   \n",
       "\n",
       "                     program_id program_type  \n",
       "2018-01-26 09:55:03           1          PHP  \n",
       "2018-01-26 09:56:02           1          PHP  \n",
       "2018-01-26 09:56:05           1          PHP  \n",
       "2018-01-26 09:56:06           1          PHP  \n",
       "2018-01-26 09:56:24           2         Java  "
      ]
     },
     "execution_count": 19,
     "metadata": {},
     "output_type": "execute_result"
    }
   ],
   "source": [
    "df.head()"
   ]
  },
  {
   "cell_type": "code",
   "execution_count": 20,
   "metadata": {},
   "outputs": [],
   "source": [
    "df = acquire_codeup()\n",
    "\n",
    "def clean_codeup(df):\n",
    "    '''Takes in pandas dataframe\n",
    "    rename columns from 0-5 to readable names\n",
    "    set index in datetime format\n",
    "    drop og date and time features\n",
    "    replace null cohort_id's with 0\n",
    "    drop the one null on webpage\n",
    "    '''\n",
    "    # Rename the columns\n",
    "    df = df.rename(columns={'ip':'ip_address', 'name':'cohort_name', \n",
    "                        'path':'webpage_accessed'})\n",
    "    # Index datetime\n",
    "    df.index = pd.to_datetime(df.date + \" \" + df.time)\n",
    "    # Drop thye OG date and time features\n",
    "    df = df.drop(columns=['date','time'], axis=1)\n",
    "    # drop uneeded columns\n",
    "    df = df.drop(['slack', 'created_at', 'updated_at', 'deleted_at', 'id'], axis=1)\n",
    "    # drop remaining null value\n",
    "    df = df.dropna()\n",
    "    # creeate new feature to hold the program name\n",
    "    df['program_type'] = df.program_id.replace(1,'PHP').replace(2,'Java').replace(3,'Data Science').replace(4,'Front End')\n",
    "    # create month and year feature\n",
    "    df['month'] = df.index.month\n",
    "    df['month'] = df.month.replace(12,'December').replace(1,'January').replace(2,'February').replace(3,'March').replace(4,'April').replace(5,'May').replace(6,'June')\n",
    "    df['year'] = df.index.year\n",
    "    df['weekday'] = df.index.weekday\n",
    "    df['weekday'] = df.weekday.replace(0,'Monday').replace(1,'Tuesday').replace(2,'Wednesday').replace(3,'Thursday').replace(4,'Friday').replace(5,'Saturday').replace(6,'Sunday')\n",
    "    return df\n",
    "\n",
    "df = clean_codeup(df)"
   ]
  },
  {
   "cell_type": "code",
   "execution_count": 21,
   "metadata": {},
   "outputs": [
    {
     "data": {
      "text/html": [
       "<div>\n",
       "<style scoped>\n",
       "    .dataframe tbody tr th:only-of-type {\n",
       "        vertical-align: middle;\n",
       "    }\n",
       "\n",
       "    .dataframe tbody tr th {\n",
       "        vertical-align: top;\n",
       "    }\n",
       "\n",
       "    .dataframe thead th {\n",
       "        text-align: right;\n",
       "    }\n",
       "</style>\n",
       "<table border=\"1\" class=\"dataframe\">\n",
       "  <thead>\n",
       "    <tr style=\"text-align: right;\">\n",
       "      <th></th>\n",
       "      <th>webpage_accessed</th>\n",
       "      <th>user_id</th>\n",
       "      <th>cohort_id</th>\n",
       "      <th>ip_address</th>\n",
       "      <th>cohort_name</th>\n",
       "      <th>start_date</th>\n",
       "      <th>end_date</th>\n",
       "      <th>program_id</th>\n",
       "      <th>program_type</th>\n",
       "      <th>month</th>\n",
       "      <th>year</th>\n",
       "      <th>weekday</th>\n",
       "    </tr>\n",
       "  </thead>\n",
       "  <tbody>\n",
       "    <tr>\n",
       "      <th>2018-01-26 09:55:03</th>\n",
       "      <td>/</td>\n",
       "      <td>1</td>\n",
       "      <td>8.0</td>\n",
       "      <td>97.105.19.61</td>\n",
       "      <td>Hampton</td>\n",
       "      <td>2015-09-22</td>\n",
       "      <td>2016-02-06</td>\n",
       "      <td>1</td>\n",
       "      <td>PHP</td>\n",
       "      <td>January</td>\n",
       "      <td>2018</td>\n",
       "      <td>Friday</td>\n",
       "    </tr>\n",
       "    <tr>\n",
       "      <th>2018-01-26 09:56:02</th>\n",
       "      <td>java-ii</td>\n",
       "      <td>1</td>\n",
       "      <td>8.0</td>\n",
       "      <td>97.105.19.61</td>\n",
       "      <td>Hampton</td>\n",
       "      <td>2015-09-22</td>\n",
       "      <td>2016-02-06</td>\n",
       "      <td>1</td>\n",
       "      <td>PHP</td>\n",
       "      <td>January</td>\n",
       "      <td>2018</td>\n",
       "      <td>Friday</td>\n",
       "    </tr>\n",
       "    <tr>\n",
       "      <th>2018-01-26 09:56:05</th>\n",
       "      <td>java-ii/object-oriented-programming</td>\n",
       "      <td>1</td>\n",
       "      <td>8.0</td>\n",
       "      <td>97.105.19.61</td>\n",
       "      <td>Hampton</td>\n",
       "      <td>2015-09-22</td>\n",
       "      <td>2016-02-06</td>\n",
       "      <td>1</td>\n",
       "      <td>PHP</td>\n",
       "      <td>January</td>\n",
       "      <td>2018</td>\n",
       "      <td>Friday</td>\n",
       "    </tr>\n",
       "    <tr>\n",
       "      <th>2018-01-26 09:56:06</th>\n",
       "      <td>slides/object_oriented_programming</td>\n",
       "      <td>1</td>\n",
       "      <td>8.0</td>\n",
       "      <td>97.105.19.61</td>\n",
       "      <td>Hampton</td>\n",
       "      <td>2015-09-22</td>\n",
       "      <td>2016-02-06</td>\n",
       "      <td>1</td>\n",
       "      <td>PHP</td>\n",
       "      <td>January</td>\n",
       "      <td>2018</td>\n",
       "      <td>Friday</td>\n",
       "    </tr>\n",
       "    <tr>\n",
       "      <th>2018-01-26 09:56:24</th>\n",
       "      <td>javascript-i/conditionals</td>\n",
       "      <td>2</td>\n",
       "      <td>22.0</td>\n",
       "      <td>97.105.19.61</td>\n",
       "      <td>Teddy</td>\n",
       "      <td>2018-01-08</td>\n",
       "      <td>2018-05-17</td>\n",
       "      <td>2</td>\n",
       "      <td>Java</td>\n",
       "      <td>January</td>\n",
       "      <td>2018</td>\n",
       "      <td>Friday</td>\n",
       "    </tr>\n",
       "  </tbody>\n",
       "</table>\n",
       "</div>"
      ],
      "text/plain": [
       "                                        webpage_accessed  user_id  cohort_id  \\\n",
       "2018-01-26 09:55:03                                    /        1        8.0   \n",
       "2018-01-26 09:56:02                              java-ii        1        8.0   \n",
       "2018-01-26 09:56:05  java-ii/object-oriented-programming        1        8.0   \n",
       "2018-01-26 09:56:06   slides/object_oriented_programming        1        8.0   \n",
       "2018-01-26 09:56:24            javascript-i/conditionals        2       22.0   \n",
       "\n",
       "                       ip_address cohort_name  start_date    end_date  \\\n",
       "2018-01-26 09:55:03  97.105.19.61     Hampton  2015-09-22  2016-02-06   \n",
       "2018-01-26 09:56:02  97.105.19.61     Hampton  2015-09-22  2016-02-06   \n",
       "2018-01-26 09:56:05  97.105.19.61     Hampton  2015-09-22  2016-02-06   \n",
       "2018-01-26 09:56:06  97.105.19.61     Hampton  2015-09-22  2016-02-06   \n",
       "2018-01-26 09:56:24  97.105.19.61       Teddy  2018-01-08  2018-05-17   \n",
       "\n",
       "                     program_id program_type    month  year weekday  \n",
       "2018-01-26 09:55:03           1          PHP  January  2018  Friday  \n",
       "2018-01-26 09:56:02           1          PHP  January  2018  Friday  \n",
       "2018-01-26 09:56:05           1          PHP  January  2018  Friday  \n",
       "2018-01-26 09:56:06           1          PHP  January  2018  Friday  \n",
       "2018-01-26 09:56:24           2         Java  January  2018  Friday  "
      ]
     },
     "execution_count": 21,
     "metadata": {},
     "output_type": "execute_result"
    }
   ],
   "source": [
    "df.head()"
   ]
  },
  {
   "cell_type": "markdown",
   "metadata": {},
   "source": [
    "# Explore"
   ]
  },
  {
   "cell_type": "markdown",
   "metadata": {},
   "source": [
    "## Focus on Easley"
   ]
  },
  {
   "cell_type": "code",
   "execution_count": 22,
   "metadata": {},
   "outputs": [
    {
     "data": {
      "text/html": [
       "<div>\n",
       "<style scoped>\n",
       "    .dataframe tbody tr th:only-of-type {\n",
       "        vertical-align: middle;\n",
       "    }\n",
       "\n",
       "    .dataframe tbody tr th {\n",
       "        vertical-align: top;\n",
       "    }\n",
       "\n",
       "    .dataframe thead th {\n",
       "        text-align: right;\n",
       "    }\n",
       "</style>\n",
       "<table border=\"1\" class=\"dataframe\">\n",
       "  <thead>\n",
       "    <tr style=\"text-align: right;\">\n",
       "      <th></th>\n",
       "      <th>webpage_accessed</th>\n",
       "      <th>user_id</th>\n",
       "      <th>cohort_id</th>\n",
       "      <th>ip_address</th>\n",
       "      <th>cohort_name</th>\n",
       "      <th>start_date</th>\n",
       "      <th>end_date</th>\n",
       "      <th>program_id</th>\n",
       "      <th>program_type</th>\n",
       "      <th>month</th>\n",
       "      <th>year</th>\n",
       "      <th>weekday</th>\n",
       "    </tr>\n",
       "  </thead>\n",
       "  <tbody>\n",
       "    <tr>\n",
       "      <th>2020-12-08 10:49:37</th>\n",
       "      <td>/</td>\n",
       "      <td>835</td>\n",
       "      <td>133.0</td>\n",
       "      <td>173.173.109.5</td>\n",
       "      <td>Easley</td>\n",
       "      <td>2020-12-07</td>\n",
       "      <td>2021-06-08</td>\n",
       "      <td>3</td>\n",
       "      <td>Data Science</td>\n",
       "      <td>December</td>\n",
       "      <td>2020</td>\n",
       "      <td>Tuesday</td>\n",
       "    </tr>\n",
       "    <tr>\n",
       "      <th>2020-12-08 10:49:39</th>\n",
       "      <td>/</td>\n",
       "      <td>836</td>\n",
       "      <td>133.0</td>\n",
       "      <td>99.43.137.186</td>\n",
       "      <td>Easley</td>\n",
       "      <td>2020-12-07</td>\n",
       "      <td>2021-06-08</td>\n",
       "      <td>3</td>\n",
       "      <td>Data Science</td>\n",
       "      <td>December</td>\n",
       "      <td>2020</td>\n",
       "      <td>Tuesday</td>\n",
       "    </tr>\n",
       "    <tr>\n",
       "      <th>2020-12-08 10:49:40</th>\n",
       "      <td>/</td>\n",
       "      <td>837</td>\n",
       "      <td>133.0</td>\n",
       "      <td>66.69.79.82</td>\n",
       "      <td>Easley</td>\n",
       "      <td>2020-12-07</td>\n",
       "      <td>2021-06-08</td>\n",
       "      <td>3</td>\n",
       "      <td>Data Science</td>\n",
       "      <td>December</td>\n",
       "      <td>2020</td>\n",
       "      <td>Tuesday</td>\n",
       "    </tr>\n",
       "    <tr>\n",
       "      <th>2020-12-08 10:49:52</th>\n",
       "      <td>/</td>\n",
       "      <td>838</td>\n",
       "      <td>133.0</td>\n",
       "      <td>99.158.249.67</td>\n",
       "      <td>Easley</td>\n",
       "      <td>2020-12-07</td>\n",
       "      <td>2021-06-08</td>\n",
       "      <td>3</td>\n",
       "      <td>Data Science</td>\n",
       "      <td>December</td>\n",
       "      <td>2020</td>\n",
       "      <td>Tuesday</td>\n",
       "    </tr>\n",
       "    <tr>\n",
       "      <th>2020-12-08 10:50:16</th>\n",
       "      <td>/</td>\n",
       "      <td>839</td>\n",
       "      <td>133.0</td>\n",
       "      <td>130.45.49.89</td>\n",
       "      <td>Easley</td>\n",
       "      <td>2020-12-07</td>\n",
       "      <td>2021-06-08</td>\n",
       "      <td>3</td>\n",
       "      <td>Data Science</td>\n",
       "      <td>December</td>\n",
       "      <td>2020</td>\n",
       "      <td>Tuesday</td>\n",
       "    </tr>\n",
       "  </tbody>\n",
       "</table>\n",
       "</div>"
      ],
      "text/plain": [
       "                    webpage_accessed  user_id  cohort_id     ip_address  \\\n",
       "2020-12-08 10:49:37                /      835      133.0  173.173.109.5   \n",
       "2020-12-08 10:49:39                /      836      133.0  99.43.137.186   \n",
       "2020-12-08 10:49:40                /      837      133.0    66.69.79.82   \n",
       "2020-12-08 10:49:52                /      838      133.0  99.158.249.67   \n",
       "2020-12-08 10:50:16                /      839      133.0   130.45.49.89   \n",
       "\n",
       "                    cohort_name  start_date    end_date  program_id  \\\n",
       "2020-12-08 10:49:37      Easley  2020-12-07  2021-06-08           3   \n",
       "2020-12-08 10:49:39      Easley  2020-12-07  2021-06-08           3   \n",
       "2020-12-08 10:49:40      Easley  2020-12-07  2021-06-08           3   \n",
       "2020-12-08 10:49:52      Easley  2020-12-07  2021-06-08           3   \n",
       "2020-12-08 10:50:16      Easley  2020-12-07  2021-06-08           3   \n",
       "\n",
       "                     program_type     month  year  weekday  \n",
       "2020-12-08 10:49:37  Data Science  December  2020  Tuesday  \n",
       "2020-12-08 10:49:39  Data Science  December  2020  Tuesday  \n",
       "2020-12-08 10:49:40  Data Science  December  2020  Tuesday  \n",
       "2020-12-08 10:49:52  Data Science  December  2020  Tuesday  \n",
       "2020-12-08 10:50:16  Data Science  December  2020  Tuesday  "
      ]
     },
     "execution_count": 22,
     "metadata": {},
     "output_type": "execute_result"
    }
   ],
   "source": [
    "easley_cohort = df[df['cohort_name'] == \"Easley\"]\n",
    "easley_cohort.head()"
   ]
  },
  {
   "cell_type": "code",
   "execution_count": 23,
   "metadata": {},
   "outputs": [
    {
     "name": "stderr",
     "output_type": "stream",
     "text": [
      "/usr/local/anaconda3/lib/python3.8/site-packages/seaborn/_decorators.py:36: FutureWarning: Pass the following variable as a keyword arg: x. From version 0.12, the only valid positional argument will be `data`, and passing other arguments without an explicit keyword will result in an error or misinterpretation.\n",
      "  warnings.warn(\n"
     ]
    },
    {
     "data": {
      "text/plain": [
       "(array([ 0,  1,  2,  3,  4,  5,  6,  7,  8,  9, 10, 11, 12, 13, 14, 15, 16,\n",
       "        17, 18, 19, 20, 21, 22, 23, 24, 25, 26, 27, 28, 29, 30, 31, 32, 33,\n",
       "        34, 35, 36, 37, 38, 39, 40, 41, 42, 43, 44, 45, 46]),\n",
       " [Text(0, 0, 'Hampton'),\n",
       "  Text(1, 0, 'Teddy'),\n",
       "  Text(2, 0, 'Sequoia'),\n",
       "  Text(3, 0, 'Arches'),\n",
       "  Text(4, 0, 'Niagara'),\n",
       "  Text(5, 0, 'Pinnacles'),\n",
       "  Text(6, 0, 'Quincy'),\n",
       "  Text(7, 0, 'Kings'),\n",
       "  Text(8, 0, 'Lassen'),\n",
       "  Text(9, 0, 'Mammoth'),\n",
       "  Text(10, 0, 'Glacier'),\n",
       "  Text(11, 0, 'Denali'),\n",
       "  Text(12, 0, 'Joshua'),\n",
       "  Text(13, 0, 'Olympic'),\n",
       "  Text(14, 0, 'Ulysses'),\n",
       "  Text(15, 0, 'Badlands'),\n",
       "  Text(16, 0, 'Apollo'),\n",
       "  Text(17, 0, 'Ike'),\n",
       "  Text(18, 0, 'Voyageurs'),\n",
       "  Text(19, 0, 'Wrangell'),\n",
       "  Text(20, 0, 'Xanadu'),\n",
       "  Text(21, 0, 'Franklin'),\n",
       "  Text(22, 0, 'Yosemite'),\n",
       "  Text(23, 0, 'Staff'),\n",
       "  Text(24, 0, 'Zion'),\n",
       "  Text(25, 0, 'Andromeda'),\n",
       "  Text(26, 0, 'Betelgeuse'),\n",
       "  Text(27, 0, 'Ceres'),\n",
       "  Text(28, 0, 'Bayes'),\n",
       "  Text(29, 0, 'Deimos'),\n",
       "  Text(30, 0, 'Europa'),\n",
       "  Text(31, 0, 'Fortuna'),\n",
       "  Text(32, 0, 'Curie'),\n",
       "  Text(33, 0, 'Apex'),\n",
       "  Text(34, 0, 'Ganymede'),\n",
       "  Text(35, 0, 'Everglades'),\n",
       "  Text(36, 0, 'Hyperion'),\n",
       "  Text(37, 0, 'Darden'),\n",
       "  Text(38, 0, 'Bash'),\n",
       "  Text(39, 0, 'Jupiter'),\n",
       "  Text(40, 0, 'Kalypso'),\n",
       "  Text(41, 0, 'Luna'),\n",
       "  Text(42, 0, 'Easley'),\n",
       "  Text(43, 0, 'Marco'),\n",
       "  Text(44, 0, 'Neptune'),\n",
       "  Text(45, 0, 'Florence'),\n",
       "  Text(46, 0, 'Oberon')])"
      ]
     },
     "execution_count": 23,
     "metadata": {},
     "output_type": "execute_result"
    },
    {
     "data": {
      "image/png": "[encoded data removed]",
      "text/plain": [
       "<Figure size 1152x576 with 1 Axes>"
      ]
     },
     "metadata": {
      "needs_background": "light"
     },
     "output_type": "display_data"
    }
   ],
   "source": [
    "plt.figure(figsize=(16,8))\n",
    "sns.set(style=\"darkgrid\")\n",
    "sns.countplot(df.cohort_name, palette='magma')\n",
    "plt.xticks(rotation=45)"
   ]
  },
  {
   "cell_type": "code",
   "execution_count": 24,
   "metadata": {},
   "outputs": [
    {
     "name": "stderr",
     "output_type": "stream",
     "text": [
      "/usr/local/anaconda3/lib/python3.8/site-packages/seaborn/_decorators.py:36: FutureWarning: Pass the following variable as a keyword arg: x. From version 0.12, the only valid positional argument will be `data`, and passing other arguments without an explicit keyword will result in an error or misinterpretation.\n",
      "  warnings.warn(\n"
     ]
    },
    {
     "data": {
      "text/plain": [
       "(array([ 0,  1,  2,  3,  4,  5,  6,  7,  8,  9, 10, 11, 12, 13, 14, 15, 16]),\n",
       " [Text(0, 0, '143'),\n",
       "  Text(1, 0, '835'),\n",
       "  Text(2, 0, '836'),\n",
       "  Text(3, 0, '837'),\n",
       "  Text(4, 0, '838'),\n",
       "  Text(5, 0, '839'),\n",
       "  Text(6, 0, '840'),\n",
       "  Text(7, 0, '841'),\n",
       "  Text(8, 0, '842'),\n",
       "  Text(9, 0, '843'),\n",
       "  Text(10, 0, '844'),\n",
       "  Text(11, 0, '845'),\n",
       "  Text(12, 0, '846'),\n",
       "  Text(13, 0, '847'),\n",
       "  Text(14, 0, '848'),\n",
       "  Text(15, 0, '849'),\n",
       "  Text(16, 0, '851')])"
      ]
     },
     "execution_count": 24,
     "metadata": {},
     "output_type": "execute_result"
    },
    {
     "data": {
      "image/png": "[encoded data removed]",
      "text/plain": [
       "<Figure size 1152x576 with 1 Axes>"
      ]
     },
     "metadata": {},
     "output_type": "display_data"
    }
   ],
   "source": [
    "plt.figure(figsize=(16,8))\n",
    "sns.set(style=\"darkgrid\")\n",
    "sns.countplot(easley_cohort.user_id, palette='magma')\n",
    "plt.xticks(rotation=45)"
   ]
  },
  {
   "cell_type": "markdown",
   "metadata": {},
   "source": [
    "## Check out my Stats"
   ]
  },
  {
   "cell_type": "code",
   "execution_count": 25,
   "metadata": {},
   "outputs": [
    {
     "data": {
      "text/html": [
       "<div>\n",
       "<style scoped>\n",
       "    .dataframe tbody tr th:only-of-type {\n",
       "        vertical-align: middle;\n",
       "    }\n",
       "\n",
       "    .dataframe tbody tr th {\n",
       "        vertical-align: top;\n",
       "    }\n",
       "\n",
       "    .dataframe thead th {\n",
       "        text-align: right;\n",
       "    }\n",
       "</style>\n",
       "<table border=\"1\" class=\"dataframe\">\n",
       "  <thead>\n",
       "    <tr style=\"text-align: right;\">\n",
       "      <th></th>\n",
       "      <th>webpage_accessed</th>\n",
       "      <th>user_id</th>\n",
       "      <th>cohort_id</th>\n",
       "      <th>ip_address</th>\n",
       "      <th>cohort_name</th>\n",
       "      <th>start_date</th>\n",
       "      <th>end_date</th>\n",
       "      <th>program_id</th>\n",
       "      <th>program_type</th>\n",
       "      <th>month</th>\n",
       "      <th>year</th>\n",
       "      <th>weekday</th>\n",
       "    </tr>\n",
       "  </thead>\n",
       "  <tbody>\n",
       "    <tr>\n",
       "      <th>2020-12-08 10:51:01</th>\n",
       "      <td>/</td>\n",
       "      <td>843</td>\n",
       "      <td>133.0</td>\n",
       "      <td>172.58.99.111</td>\n",
       "      <td>Easley</td>\n",
       "      <td>2020-12-07</td>\n",
       "      <td>2021-06-08</td>\n",
       "      <td>3</td>\n",
       "      <td>Data Science</td>\n",
       "      <td>December</td>\n",
       "      <td>2020</td>\n",
       "      <td>Tuesday</td>\n",
       "    </tr>\n",
       "    <tr>\n",
       "      <th>2020-12-08 10:58:30</th>\n",
       "      <td>fundamentals/intro-to-data-science</td>\n",
       "      <td>843</td>\n",
       "      <td>133.0</td>\n",
       "      <td>172.58.99.111</td>\n",
       "      <td>Easley</td>\n",
       "      <td>2020-12-07</td>\n",
       "      <td>2021-06-08</td>\n",
       "      <td>3</td>\n",
       "      <td>Data Science</td>\n",
       "      <td>December</td>\n",
       "      <td>2020</td>\n",
       "      <td>Tuesday</td>\n",
       "    </tr>\n",
       "    <tr>\n",
       "      <th>2020-12-08 10:58:31</th>\n",
       "      <td>fundamentals/modern-data-scientist.jpg</td>\n",
       "      <td>843</td>\n",
       "      <td>133.0</td>\n",
       "      <td>172.58.99.111</td>\n",
       "      <td>Easley</td>\n",
       "      <td>2020-12-07</td>\n",
       "      <td>2021-06-08</td>\n",
       "      <td>3</td>\n",
       "      <td>Data Science</td>\n",
       "      <td>December</td>\n",
       "      <td>2020</td>\n",
       "      <td>Tuesday</td>\n",
       "    </tr>\n",
       "    <tr>\n",
       "      <th>2020-12-08 10:58:31</th>\n",
       "      <td>fundamentals/AI-ML-DL-timeline.jpg</td>\n",
       "      <td>843</td>\n",
       "      <td>133.0</td>\n",
       "      <td>172.58.99.111</td>\n",
       "      <td>Easley</td>\n",
       "      <td>2020-12-07</td>\n",
       "      <td>2021-06-08</td>\n",
       "      <td>3</td>\n",
       "      <td>Data Science</td>\n",
       "      <td>December</td>\n",
       "      <td>2020</td>\n",
       "      <td>Tuesday</td>\n",
       "    </tr>\n",
       "    <tr>\n",
       "      <th>2020-12-08 13:09:05</th>\n",
       "      <td>fundamentals/modern-data-scientist.jpg</td>\n",
       "      <td>843</td>\n",
       "      <td>133.0</td>\n",
       "      <td>172.58.99.111</td>\n",
       "      <td>Easley</td>\n",
       "      <td>2020-12-07</td>\n",
       "      <td>2021-06-08</td>\n",
       "      <td>3</td>\n",
       "      <td>Data Science</td>\n",
       "      <td>December</td>\n",
       "      <td>2020</td>\n",
       "      <td>Tuesday</td>\n",
       "    </tr>\n",
       "  </tbody>\n",
       "</table>\n",
       "</div>"
      ],
      "text/plain": [
       "                                           webpage_accessed  user_id  \\\n",
       "2020-12-08 10:51:01                                       /      843   \n",
       "2020-12-08 10:58:30      fundamentals/intro-to-data-science      843   \n",
       "2020-12-08 10:58:31  fundamentals/modern-data-scientist.jpg      843   \n",
       "2020-12-08 10:58:31      fundamentals/AI-ML-DL-timeline.jpg      843   \n",
       "2020-12-08 13:09:05  fundamentals/modern-data-scientist.jpg      843   \n",
       "\n",
       "                     cohort_id     ip_address cohort_name  start_date  \\\n",
       "2020-12-08 10:51:01      133.0  172.58.99.111      Easley  2020-12-07   \n",
       "2020-12-08 10:58:30      133.0  172.58.99.111      Easley  2020-12-07   \n",
       "2020-12-08 10:58:31      133.0  172.58.99.111      Easley  2020-12-07   \n",
       "2020-12-08 10:58:31      133.0  172.58.99.111      Easley  2020-12-07   \n",
       "2020-12-08 13:09:05      133.0  172.58.99.111      Easley  2020-12-07   \n",
       "\n",
       "                       end_date  program_id  program_type     month  year  \\\n",
       "2020-12-08 10:51:01  2021-06-08           3  Data Science  December  2020   \n",
       "2020-12-08 10:58:30  2021-06-08           3  Data Science  December  2020   \n",
       "2020-12-08 10:58:31  2021-06-08           3  Data Science  December  2020   \n",
       "2020-12-08 10:58:31  2021-06-08           3  Data Science  December  2020   \n",
       "2020-12-08 13:09:05  2021-06-08           3  Data Science  December  2020   \n",
       "\n",
       "                     weekday  \n",
       "2020-12-08 10:51:01  Tuesday  \n",
       "2020-12-08 10:58:30  Tuesday  \n",
       "2020-12-08 10:58:31  Tuesday  \n",
       "2020-12-08 10:58:31  Tuesday  \n",
       "2020-12-08 13:09:05  Tuesday  "
      ]
     },
     "execution_count": 25,
     "metadata": {},
     "output_type": "execute_result"
    }
   ],
   "source": [
    "caitlyn = df[(df['user_id'] == 843)]\n",
    "caitlyn.head()"
   ]
  },
  {
   "cell_type": "code",
   "execution_count": 26,
   "metadata": {},
   "outputs": [
    {
     "data": {
      "text/plain": [
       "<AxesSubplot:>"
      ]
     },
     "execution_count": 26,
     "metadata": {},
     "output_type": "execute_result"
    },
    {
     "data": {
      "image/png": "[encoded data removed]",
      "text/plain": [
       "<Figure size 1152x576 with 1 Axes>"
      ]
     },
     "metadata": {},
     "output_type": "display_data"
    }
   ],
   "source": [
    "plt.figure(figsize=(16,8))\n",
    "caitlyn.weekday.value_counts().sort_index().plot.bar(rot=0, width=.9, color='indianred',ec='black')"
   ]
  },
  {
   "cell_type": "code",
   "execution_count": 37,
   "metadata": {},
   "outputs": [],
   "source": [
    "#plt.figure(figsize=(16,8))\n",
    "#peers.weekday.mean().sort_index().plot.bar(rot=0, width=.9, color='indianred',ec='black')"
   ]
  },
  {
   "cell_type": "code",
   "execution_count": 38,
   "metadata": {},
   "outputs": [
    {
     "data": {
      "text/plain": [
       "<AxesSubplot:>"
      ]
     },
     "execution_count": 38,
     "metadata": {},
     "output_type": "execute_result"
    },
    {
     "data": {
      "image/png": "[encoded data removed]",
      "text/plain": [
       "<Figure size 1152x576 with 1 Axes>"
      ]
     },
     "metadata": {},
     "output_type": "display_data"
    }
   ],
   "source": [
    "plt.figure(figsize=(16,8))\n",
    "df[df['user_id'] == 843].month.value_counts().plot.bar(rot=0, width=0.9, color='sandybrown',ec='black')"
   ]
  },
  {
   "cell_type": "markdown",
   "metadata": {},
   "source": [
    "## Look at Programs"
   ]
  },
  {
   "cell_type": "code",
   "execution_count": 39,
   "metadata": {},
   "outputs": [
    {
     "data": {
      "text/plain": [
       "Java            713365\n",
       "Data Science    103411\n",
       "PHP              30548\n",
       "Front End            5\n",
       "Name: program_type, dtype: int64"
      ]
     },
     "execution_count": 39,
     "metadata": {},
     "output_type": "execute_result"
    }
   ],
   "source": [
    "df.program_type.value_counts()"
   ]
  },
  {
   "cell_type": "code",
   "execution_count": 40,
   "metadata": {},
   "outputs": [
    {
     "data": {
      "text/plain": [
       "/                           35814\n",
       "javascript-i                17457\n",
       "toc                         17428\n",
       "search/search_index.json    15212\n",
       "java-iii                    12683\n",
       "html-css                    12569\n",
       "java-ii                     11719\n",
       "spring                      11376\n",
       "jquery                      10693\n",
       "mysql                       10318\n",
       "Name: webpage_accessed, dtype: int64"
      ]
     },
     "execution_count": 40,
     "metadata": {},
     "output_type": "execute_result"
    }
   ],
   "source": [
    "df[df.program_type == 'Java'].webpage_accessed.value_counts().head(10)"
   ]
  },
  {
   "cell_type": "code",
   "execution_count": 41,
   "metadata": {},
   "outputs": [
    {
     "data": {
      "text/plain": [
       "/                                           8358\n",
       "search/search_index.json                    2203\n",
       "classification/overview                     1785\n",
       "1-fundamentals/modern-data-scientist.jpg    1655\n",
       "1-fundamentals/AI-ML-DL-timeline.jpg        1651\n",
       "1-fundamentals/1.1-intro-to-data-science    1633\n",
       "classification/scale_features_or_not.svg    1590\n",
       "fundamentals/AI-ML-DL-timeline.jpg          1443\n",
       "fundamentals/modern-data-scientist.jpg      1438\n",
       "sql/mysql-overview                          1424\n",
       "Name: webpage_accessed, dtype: int64"
      ]
     },
     "execution_count": 41,
     "metadata": {},
     "output_type": "execute_result"
    }
   ],
   "source": [
    "df[df.program_type == 'Data Science'].webpage_accessed.value_counts().head(10)"
   ]
  },
  {
   "cell_type": "code",
   "execution_count": 42,
   "metadata": {},
   "outputs": [
    {
     "data": {
      "text/plain": [
       "/                1681\n",
       "index.html       1011\n",
       "javascript-i      736\n",
       "html-css          542\n",
       "spring            501\n",
       "java-iii          479\n",
       "java-ii           454\n",
       "java-i            444\n",
       "javascript-ii     429\n",
       "appendix          409\n",
       "Name: webpage_accessed, dtype: int64"
      ]
     },
     "execution_count": 42,
     "metadata": {},
     "output_type": "execute_result"
    }
   ],
   "source": [
    "df[df.program_type == 'PHP'].webpage_accessed.value_counts().head(10)"
   ]
  },
  {
   "cell_type": "code",
   "execution_count": 43,
   "metadata": {},
   "outputs": [
    {
     "data": {
      "text/plain": [
       "content/html-css                               2\n",
       "/                                              1\n",
       "content/html-css/gitbook/images/favicon.ico    1\n",
       "content/html-css/introduction.html             1\n",
       "Name: webpage_accessed, dtype: int64"
      ]
     },
     "execution_count": 43,
     "metadata": {},
     "output_type": "execute_result"
    }
   ],
   "source": [
    "df[df.program_type == 'Front End'].webpage_accessed.value_counts().head(10)"
   ]
  },
  {
   "cell_type": "code",
   "execution_count": null,
   "metadata": {},
   "outputs": [],
   "source": []
  },
  {
   "cell_type": "code",
   "execution_count": null,
   "metadata": {},
   "outputs": [],
   "source": []
  },
  {
   "cell_type": "code",
   "execution_count": null,
   "metadata": {},
   "outputs": [],
   "source": []
  },
  {
   "cell_type": "markdown",
   "metadata": {},
   "source": [
    "plt.figure(figsize=(16,8))\n",
    "sns.set(style=\"darkgrid\")\n",
    "sns.countplot(train.program_type, palette='magma')\n",
    "plt.xticks(rotation=45)"
   ]
  },
  {
   "cell_type": "code",
   "execution_count": null,
   "metadata": {},
   "outputs": [],
   "source": []
  },
  {
   "cell_type": "markdown",
   "metadata": {},
   "source": [
    "## Check out the Staff"
   ]
  },
  {
   "cell_type": "code",
   "execution_count": 46,
   "metadata": {},
   "outputs": [
    {
     "data": {
      "text/html": [
       "<div>\n",
       "<style scoped>\n",
       "    .dataframe tbody tr th:only-of-type {\n",
       "        vertical-align: middle;\n",
       "    }\n",
       "\n",
       "    .dataframe tbody tr th {\n",
       "        vertical-align: top;\n",
       "    }\n",
       "\n",
       "    .dataframe thead th {\n",
       "        text-align: right;\n",
       "    }\n",
       "</style>\n",
       "<table border=\"1\" class=\"dataframe\">\n",
       "  <thead>\n",
       "    <tr style=\"text-align: right;\">\n",
       "      <th></th>\n",
       "      <th>webpage_accessed</th>\n",
       "      <th>user_id</th>\n",
       "      <th>cohort_id</th>\n",
       "      <th>ip_address</th>\n",
       "      <th>cohort_name</th>\n",
       "      <th>start_date</th>\n",
       "      <th>end_date</th>\n",
       "      <th>program_id</th>\n",
       "      <th>program_type</th>\n",
       "      <th>month</th>\n",
       "      <th>year</th>\n",
       "      <th>weekday</th>\n",
       "    </tr>\n",
       "  </thead>\n",
       "  <tbody>\n",
       "    <tr>\n",
       "      <th>2018-12-06 14:15:29</th>\n",
       "      <td>appendix/further-reading/java/intellij-tomcat-...</td>\n",
       "      <td>53</td>\n",
       "      <td>28.0</td>\n",
       "      <td>97.105.19.58</td>\n",
       "      <td>Staff</td>\n",
       "      <td>2014-02-04</td>\n",
       "      <td>2014-02-04</td>\n",
       "      <td>2</td>\n",
       "      <td>Java</td>\n",
       "      <td>December</td>\n",
       "      <td>2018</td>\n",
       "      <td>Thursday</td>\n",
       "    </tr>\n",
       "    <tr>\n",
       "      <th>2018-12-06 14:25:40</th>\n",
       "      <td>javascript-i</td>\n",
       "      <td>314</td>\n",
       "      <td>28.0</td>\n",
       "      <td>97.105.19.58</td>\n",
       "      <td>Staff</td>\n",
       "      <td>2014-02-04</td>\n",
       "      <td>2014-02-04</td>\n",
       "      <td>2</td>\n",
       "      <td>Java</td>\n",
       "      <td>December</td>\n",
       "      <td>2018</td>\n",
       "      <td>Thursday</td>\n",
       "    </tr>\n",
       "    <tr>\n",
       "      <th>2018-12-06 14:25:41</th>\n",
       "      <td>javascript-i/coffee-project</td>\n",
       "      <td>314</td>\n",
       "      <td>28.0</td>\n",
       "      <td>97.105.19.58</td>\n",
       "      <td>Staff</td>\n",
       "      <td>2014-02-04</td>\n",
       "      <td>2014-02-04</td>\n",
       "      <td>2</td>\n",
       "      <td>Java</td>\n",
       "      <td>December</td>\n",
       "      <td>2018</td>\n",
       "      <td>Thursday</td>\n",
       "    </tr>\n",
       "    <tr>\n",
       "      <th>2018-12-06 15:31:29</th>\n",
       "      <td>spring</td>\n",
       "      <td>40</td>\n",
       "      <td>28.0</td>\n",
       "      <td>170.248.173.247</td>\n",
       "      <td>Staff</td>\n",
       "      <td>2014-02-04</td>\n",
       "      <td>2014-02-04</td>\n",
       "      <td>2</td>\n",
       "      <td>Java</td>\n",
       "      <td>December</td>\n",
       "      <td>2018</td>\n",
       "      <td>Thursday</td>\n",
       "    </tr>\n",
       "    <tr>\n",
       "      <th>2018-12-06 15:31:33</th>\n",
       "      <td>spring/fundamentals/security</td>\n",
       "      <td>40</td>\n",
       "      <td>28.0</td>\n",
       "      <td>170.248.173.247</td>\n",
       "      <td>Staff</td>\n",
       "      <td>2014-02-04</td>\n",
       "      <td>2014-02-04</td>\n",
       "      <td>2</td>\n",
       "      <td>Java</td>\n",
       "      <td>December</td>\n",
       "      <td>2018</td>\n",
       "      <td>Thursday</td>\n",
       "    </tr>\n",
       "  </tbody>\n",
       "</table>\n",
       "</div>"
      ],
      "text/plain": [
       "                                                      webpage_accessed  \\\n",
       "2018-12-06 14:15:29  appendix/further-reading/java/intellij-tomcat-...   \n",
       "2018-12-06 14:25:40                                       javascript-i   \n",
       "2018-12-06 14:25:41                        javascript-i/coffee-project   \n",
       "2018-12-06 15:31:29                                             spring   \n",
       "2018-12-06 15:31:33                       spring/fundamentals/security   \n",
       "\n",
       "                     user_id  cohort_id       ip_address cohort_name  \\\n",
       "2018-12-06 14:15:29       53       28.0     97.105.19.58       Staff   \n",
       "2018-12-06 14:25:40      314       28.0     97.105.19.58       Staff   \n",
       "2018-12-06 14:25:41      314       28.0     97.105.19.58       Staff   \n",
       "2018-12-06 15:31:29       40       28.0  170.248.173.247       Staff   \n",
       "2018-12-06 15:31:33       40       28.0  170.248.173.247       Staff   \n",
       "\n",
       "                     start_date    end_date  program_id program_type  \\\n",
       "2018-12-06 14:15:29  2014-02-04  2014-02-04           2         Java   \n",
       "2018-12-06 14:25:40  2014-02-04  2014-02-04           2         Java   \n",
       "2018-12-06 14:25:41  2014-02-04  2014-02-04           2         Java   \n",
       "2018-12-06 15:31:29  2014-02-04  2014-02-04           2         Java   \n",
       "2018-12-06 15:31:33  2014-02-04  2014-02-04           2         Java   \n",
       "\n",
       "                        month  year   weekday  \n",
       "2018-12-06 14:15:29  December  2018  Thursday  \n",
       "2018-12-06 14:25:40  December  2018  Thursday  \n",
       "2018-12-06 14:25:41  December  2018  Thursday  \n",
       "2018-12-06 15:31:29  December  2018  Thursday  \n",
       "2018-12-06 15:31:33  December  2018  Thursday  "
      ]
     },
     "execution_count": 46,
     "metadata": {},
     "output_type": "execute_result"
    }
   ],
   "source": [
    "staff = df[(df['cohort_name'] == 'Staff')]\n",
    "staff.head()"
   ]
  },
  {
   "cell_type": "code",
   "execution_count": 53,
   "metadata": {},
   "outputs": [
    {
     "name": "stderr",
     "output_type": "stream",
     "text": [
      "/usr/local/anaconda3/lib/python3.8/site-packages/seaborn/_decorators.py:36: FutureWarning: Pass the following variable as a keyword arg: x. From version 0.12, the only valid positional argument will be `data`, and passing other arguments without an explicit keyword will result in an error or misinterpretation.\n",
      "  warnings.warn(\n"
     ]
    },
    {
     "data": {
      "text/plain": [
       "<AxesSubplot:xlabel='user_id', ylabel='count'>"
      ]
     },
     "execution_count": 53,
     "metadata": {},
     "output_type": "execute_result"
    },
    {
     "data": {
      "image/png": "[encoded data removed]",
      "text/plain": [
       "<Figure size 1584x576 with 1 Axes>"
      ]
     },
     "metadata": {},
     "output_type": "display_data"
    }
   ],
   "source": [
    "plt.figure(figsize=(22,8))\n",
    "sns.set(style=\"dark\")\n",
    "sns.countplot(staff.user_id, palette='magma')"
   ]
  },
  {
   "cell_type": "markdown",
   "metadata": {},
   "source": [
    "### Takeaways:\n",
    "- I speculate the user_id 11 is Zach Guilde\n",
    "    - Because Zach creates the curriculum I suspect he is looking at it on a regular basis."
   ]
  },
  {
   "cell_type": "code",
   "execution_count": 64,
   "metadata": {},
   "outputs": [
    {
     "data": {
      "text/plain": [
       "<AxesSubplot:>"
      ]
     },
     "execution_count": 64,
     "metadata": {},
     "output_type": "execute_result"
    },
    {
     "data": {
      "image/png": "[encoded data removed]",
      "text/plain": [
       "<Figure size 1152x576 with 1 Axes>"
      ]
     },
     "metadata": {},
     "output_type": "display_data"
    }
   ],
   "source": [
    "plt.figure(figsize=(16,8))\n",
    "staff[staff['user_id'] == 11].weekday.value_counts().plot.bar(rot=0, width=0.9, color='darkmagenta',ec='black')"
   ]
  },
  {
   "cell_type": "code",
   "execution_count": 65,
   "metadata": {},
   "outputs": [
    {
     "data": {
      "text/plain": [
       "<AxesSubplot:>"
      ]
     },
     "execution_count": 65,
     "metadata": {},
     "output_type": "execute_result"
    },
    {
     "data": {
      "image/png": "[encoded data removed]",
      "text/plain": [
       "<Figure size 1152x576 with 1 Axes>"
      ]
     },
     "metadata": {},
     "output_type": "display_data"
    }
   ],
   "source": [
    "plt.figure(figsize=(16,8))\n",
    "staff[staff['user_id'] == 64].weekday.value_counts().plot.bar(rot=0, width=0.9, color='darkmagenta',ec='black')"
   ]
  },
  {
   "cell_type": "code",
   "execution_count": null,
   "metadata": {},
   "outputs": [],
   "source": []
  }
 ],
 "metadata": {
  "kernelspec": {
   "display_name": "Python 3",
   "language": "python",
   "name": "python3"
  },
  "language_info": {
   "codemirror_mode": {
    "name": "ipython",
    "version": 3
   },
   "file_extension": ".py",
   "mimetype": "text/x-python",
   "name": "python",
   "nbconvert_exporter": "python",
   "pygments_lexer": "ipython3",
   "version": "3.8.5"
  }
 },
 "nbformat": 4,
 "nbformat_minor": 4
}
