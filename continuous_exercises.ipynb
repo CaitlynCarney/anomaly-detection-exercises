{
 "cells": [
  {
   "cell_type": "code",
   "execution_count": 1,
   "metadata": {},
   "outputs": [],
   "source": [
    "import pandas as pd\n",
    "import numpy as np\n",
    "import matplotlib.pyplot as plt\n",
    "import seaborn as sns"
   ]
  },
  {
   "cell_type": "markdown",
   "metadata": {},
   "source": [
    "#### continuous_probabilistic_methods.py or continuous_probabilistic_methods.ipynb 1. Define a function named get_lower_and_upper_bounds that has two arguments. The first argument is a pandas Series. The second argument is the multiplier, which should have a default argument of 1.5."
   ]
  },
  {
   "cell_type": "markdown",
   "metadata": {},
   "source": [
    "1. Using lemonade.csv dataset and focusing on continuous variables:\n",
    "\n"
   ]
  },
  {
   "cell_type": "code",
   "execution_count": 20,
   "metadata": {},
   "outputs": [
    {
     "data": {
      "text/html": [
       "<div>\n",
       "<style scoped>\n",
       "    .dataframe tbody tr th:only-of-type {\n",
       "        vertical-align: middle;\n",
       "    }\n",
       "\n",
       "    .dataframe tbody tr th {\n",
       "        vertical-align: top;\n",
       "    }\n",
       "\n",
       "    .dataframe thead th {\n",
       "        text-align: right;\n",
       "    }\n",
       "</style>\n",
       "<table border=\"1\" class=\"dataframe\">\n",
       "  <thead>\n",
       "    <tr style=\"text-align: right;\">\n",
       "      <th></th>\n",
       "      <th>Date</th>\n",
       "      <th>Day</th>\n",
       "      <th>Temperature</th>\n",
       "      <th>Rainfall</th>\n",
       "      <th>Flyers</th>\n",
       "      <th>Price</th>\n",
       "      <th>Sales</th>\n",
       "    </tr>\n",
       "  </thead>\n",
       "  <tbody>\n",
       "    <tr>\n",
       "      <th>0</th>\n",
       "      <td>1/1/17</td>\n",
       "      <td>Sunday</td>\n",
       "      <td>27.0</td>\n",
       "      <td>2.00</td>\n",
       "      <td>15</td>\n",
       "      <td>0.5</td>\n",
       "      <td>10</td>\n",
       "    </tr>\n",
       "    <tr>\n",
       "      <th>1</th>\n",
       "      <td>1/2/17</td>\n",
       "      <td>Monday</td>\n",
       "      <td>28.9</td>\n",
       "      <td>1.33</td>\n",
       "      <td>15</td>\n",
       "      <td>0.5</td>\n",
       "      <td>13</td>\n",
       "    </tr>\n",
       "    <tr>\n",
       "      <th>2</th>\n",
       "      <td>1/3/17</td>\n",
       "      <td>Tuesday</td>\n",
       "      <td>34.5</td>\n",
       "      <td>1.33</td>\n",
       "      <td>27</td>\n",
       "      <td>0.5</td>\n",
       "      <td>15</td>\n",
       "    </tr>\n",
       "    <tr>\n",
       "      <th>3</th>\n",
       "      <td>1/4/17</td>\n",
       "      <td>Wednesday</td>\n",
       "      <td>44.1</td>\n",
       "      <td>1.05</td>\n",
       "      <td>28</td>\n",
       "      <td>0.5</td>\n",
       "      <td>17</td>\n",
       "    </tr>\n",
       "    <tr>\n",
       "      <th>4</th>\n",
       "      <td>1/5/17</td>\n",
       "      <td>Thursday</td>\n",
       "      <td>42.4</td>\n",
       "      <td>1.00</td>\n",
       "      <td>33</td>\n",
       "      <td>0.5</td>\n",
       "      <td>18</td>\n",
       "    </tr>\n",
       "  </tbody>\n",
       "</table>\n",
       "</div>"
      ],
      "text/plain": [
       "     Date        Day  Temperature  Rainfall  Flyers  Price  Sales\n",
       "0  1/1/17     Sunday         27.0      2.00      15    0.5     10\n",
       "1  1/2/17     Monday         28.9      1.33      15    0.5     13\n",
       "2  1/3/17    Tuesday         34.5      1.33      27    0.5     15\n",
       "3  1/4/17  Wednesday         44.1      1.05      28    0.5     17\n",
       "4  1/5/17   Thursday         42.4      1.00      33    0.5     18"
      ]
     },
     "execution_count": 20,
     "metadata": {},
     "output_type": "execute_result"
    }
   ],
   "source": [
    "df = pd.read_csv('lemonade.csv')\n",
    "df.head()"
   ]
  },
  {
   "cell_type": "markdown",
   "metadata": {},
   "source": [
    "a. Use the IQR Range Rule and the upper and lower bounds to identify the lower outliers of each column of lemonade.csv, using the multiplier of 1.5.\n",
    "\n",
    "b. Use the IQR Range Rule and the upper and lower bounds to identify the upper outliers of each column of lemonade.csv, using the multiplier of 1.5. Do these lower outliers make sense?Which outliers should be kept?\n"
   ]
  },
  {
   "cell_type": "code",
   "execution_count": 21,
   "metadata": {},
   "outputs": [],
   "source": [
    "columns = ['Temperature', 'Rainfall', 'Flyers', 'Price', 'Sales']"
   ]
  },
  {
   "cell_type": "code",
   "execution_count": 22,
   "metadata": {},
   "outputs": [],
   "source": [
    "def generate_outlier_bounds(df, columns, multiplier=1.5):\n",
    "    \"\"\"\n",
    "    Takes in a dataframe, the column name, and can specify a multiplier (default=1.5). Returns the upper and lower bounds for the\n",
    "    values in that column that signify outliers.\n",
    "    \"\"\"\n",
    "    # get q1\n",
    "    q1 = df[columns].quantile(.25)\n",
    "    # get q3\n",
    "    q3 = df[columns].quantile(.75)\n",
    "    # get iqr\n",
    "    iqr = q3 - q1\n",
    "\n",
    "    upper = q3 + (multiplier * iqr)\n",
    "    lower = q1 - (multiplier * iqr)\n",
    "    \n",
    "    upper = pd.DataFrame(upper)\n",
    "    upper.columns = ['Upper_Bound']\n",
    "    lower = pd.DataFrame(lower)\n",
    "    lower.columns = ['Lower_Bound']\n",
    "\n",
    "    bounds = pd.concat([upper, lower], axis=1)\n",
    "    bounds\n",
    "\n",
    "    return upper, lower, bounds"
   ]
  },
  {
   "cell_type": "code",
   "execution_count": 23,
   "metadata": {},
   "outputs": [
    {
     "data": {
      "text/html": [
       "<div>\n",
       "<style scoped>\n",
       "    .dataframe tbody tr th:only-of-type {\n",
       "        vertical-align: middle;\n",
       "    }\n",
       "\n",
       "    .dataframe tbody tr th {\n",
       "        vertical-align: top;\n",
       "    }\n",
       "\n",
       "    .dataframe thead th {\n",
       "        text-align: right;\n",
       "    }\n",
       "</style>\n",
       "<table border=\"1\" class=\"dataframe\">\n",
       "  <thead>\n",
       "    <tr style=\"text-align: right;\">\n",
       "      <th></th>\n",
       "      <th>Upper_Bound</th>\n",
       "      <th>Lower_Bound</th>\n",
       "    </tr>\n",
       "  </thead>\n",
       "  <tbody>\n",
       "    <tr>\n",
       "      <th>Temperature</th>\n",
       "      <td>104.7</td>\n",
       "      <td>16.70</td>\n",
       "    </tr>\n",
       "    <tr>\n",
       "      <th>Rainfall</th>\n",
       "      <td>1.3</td>\n",
       "      <td>0.26</td>\n",
       "    </tr>\n",
       "    <tr>\n",
       "      <th>Flyers</th>\n",
       "      <td>76.0</td>\n",
       "      <td>4.00</td>\n",
       "    </tr>\n",
       "    <tr>\n",
       "      <th>Price</th>\n",
       "      <td>0.5</td>\n",
       "      <td>0.50</td>\n",
       "    </tr>\n",
       "    <tr>\n",
       "      <th>Sales</th>\n",
       "      <td>45.0</td>\n",
       "      <td>5.00</td>\n",
       "    </tr>\n",
       "  </tbody>\n",
       "</table>\n",
       "</div>"
      ],
      "text/plain": [
       "             Upper_Bound  Lower_Bound\n",
       "Temperature        104.7        16.70\n",
       "Rainfall             1.3         0.26\n",
       "Flyers              76.0         4.00\n",
       "Price                0.5         0.50\n",
       "Sales               45.0         5.00"
      ]
     },
     "execution_count": 23,
     "metadata": {},
     "output_type": "execute_result"
    }
   ],
   "source": [
    "upper, lower, bounds= generate_outlier_bounds(df, columns, multiplier=1.5)\n",
    "#upper = pd.DataFrame(upper)\n",
    "#upper.columns = ['Upper_Bound']\n",
    "#lower = pd.DataFrame(lower)\n",
    "#lower.columns = ['Lower_Bound']\n",
    "\n",
    "#bounds = pd.concat([upper, lower], axis=1)\n",
    "bounds"
   ]
  },
  {
   "cell_type": "code",
   "execution_count": 24,
   "metadata": {},
   "outputs": [
    {
     "name": "stdout",
     "output_type": "stream",
     "text": [
      "Temperature\n"
     ]
    },
    {
     "data": {
      "image/png": "[encoded data removed]",
      "text/plain": [
       "<Figure size 432x288 with 1 Axes>"
      ]
     },
     "metadata": {
      "needs_background": "light"
     },
     "output_type": "display_data"
    },
    {
     "name": "stdout",
     "output_type": "stream",
     "text": [
      "Rainfall\n"
     ]
    },
    {
     "data": {
      "image/png": "[encoded data removed]",
      "text/plain": [
       "<Figure size 432x288 with 1 Axes>"
      ]
     },
     "metadata": {
      "needs_background": "light"
     },
     "output_type": "display_data"
    },
    {
     "name": "stdout",
     "output_type": "stream",
     "text": [
      "Flyers\n"
     ]
    },
    {
     "data": {
      "image/png": "[encoded data removed]",
      "text/plain": [
       "<Figure size 432x288 with 1 Axes>"
      ]
     },
     "metadata": {
      "needs_background": "light"
     },
     "output_type": "display_data"
    },
    {
     "name": "stdout",
     "output_type": "stream",
     "text": [
      "Price\n"
     ]
    },
    {
     "data": {
      "image/png": "[encoded data removed]",
      "text/plain": [
       "<Figure size 432x288 with 1 Axes>"
      ]
     },
     "metadata": {
      "needs_background": "light"
     },
     "output_type": "display_data"
    },
    {
     "name": "stdout",
     "output_type": "stream",
     "text": [
      "Sales\n"
     ]
    },
    {
     "data": {
      "image/png": "[encoded data removed]",
      "text/plain": [
       "<Figure size 432x288 with 1 Axes>"
      ]
     },
     "metadata": {
      "needs_background": "light"
     },
     "output_type": "display_data"
    }
   ],
   "source": [
    "for col in columns:\n",
    "    if np.issubdtype(df[col].dtype, np.number):\n",
    "        df[col].hist(color='chocolate', edgecolor='black')\n",
    "        print(col)\n",
    "        plt.show()"
   ]
  },
  {
   "cell_type": "code",
   "execution_count": 25,
   "metadata": {},
   "outputs": [
    {
     "name": "stdout",
     "output_type": "stream",
     "text": [
      "Temperature\n"
     ]
    },
    {
     "data": {
      "image/png": "[encoded data removed]",
      "text/plain": [
       "<Figure size 432x288 with 1 Axes>"
      ]
     },
     "metadata": {
      "needs_background": "light"
     },
     "output_type": "display_data"
    },
    {
     "name": "stdout",
     "output_type": "stream",
     "text": [
      "Rainfall\n"
     ]
    },
    {
     "data": {
      "image/png": "[encoded data removed]",
      "text/plain": [
       "<Figure size 432x288 with 1 Axes>"
      ]
     },
     "metadata": {
      "needs_background": "light"
     },
     "output_type": "display_data"
    },
    {
     "name": "stdout",
     "output_type": "stream",
     "text": [
      "Flyers\n"
     ]
    },
    {
     "data": {
      "image/png": "[encoded data removed]",
      "text/plain": [
       "<Figure size 432x288 with 1 Axes>"
      ]
     },
     "metadata": {
      "needs_background": "light"
     },
     "output_type": "display_data"
    },
    {
     "name": "stdout",
     "output_type": "stream",
     "text": [
      "Price\n"
     ]
    },
    {
     "data": {
      "image/png": "[encoded data removed]",
      "text/plain": [
       "<Figure size 432x288 with 1 Axes>"
      ]
     },
     "metadata": {
      "needs_background": "light"
     },
     "output_type": "display_data"
    },
    {
     "name": "stdout",
     "output_type": "stream",
     "text": [
      "Sales\n"
     ]
    },
    {
     "data": {
      "image/png": "[encoded data removed]",
      "text/plain": [
       "<Figure size 432x288 with 1 Axes>"
      ]
     },
     "metadata": {
      "needs_background": "light"
     },
     "output_type": "display_data"
    }
   ],
   "source": [
    "for col in columns:\n",
    "    sns.boxplot(x=col, data=df, color='indianred')\n",
    "    print(col)\n",
    "    plt.show()"
   ]
  },
  {
   "cell_type": "code",
   "execution_count": 28,
   "metadata": {},
   "outputs": [
    {
     "data": {
      "text/plain": [
       "0.5    365\n",
       "Name: Price, dtype: int64"
      ]
     },
     "execution_count": 28,
     "metadata": {},
     "output_type": "execute_result"
    }
   ],
   "source": [
    "df.Price.value_counts()"
   ]
  },
  {
   "cell_type": "markdown",
   "metadata": {},
   "source": [
    "Do these lower outliers make sense? Which outliers should be kept?"
   ]
  },
  {
   "cell_type": "markdown",
   "metadata": {},
   "source": [
    "- I would keep the outliers from rainfall and price but remove the outliers for temp, flyers, and maybe sales"
   ]
  },
  {
   "cell_type": "markdown",
   "metadata": {},
   "source": [
    "___"
   ]
  },
  {
   "cell_type": "markdown",
   "metadata": {},
   "source": [
    "c. Using the multiplier of 3, IQR Range Rule, and the lower and upper bounds, identify the outliers below the lower bound in each colum of lemonade.csv. Do these lower outliers make sense?Which outliers should be kept?\n",
    "\n"
   ]
  },
  {
   "cell_type": "markdown",
   "metadata": {},
   "source": [
    "d. Using the multiplier of 3, IQR Range Rule, and the lower and upper bounds, identify the outliers above the upper_bound in each colum of lemonade.csv."
   ]
  },
  {
   "cell_type": "code",
   "execution_count": 30,
   "metadata": {},
   "outputs": [],
   "source": [
    "df = pd.read_csv('lemonade.csv')"
   ]
  },
  {
   "cell_type": "code",
   "execution_count": 33,
   "metadata": {},
   "outputs": [],
   "source": [
    "def generate_outlier_bounds(df, columns, multiplier=3):\n",
    "    \"\"\"\n",
    "    Takes in a dataframe, the column name, and can specify a multiplier (default=1.5). Returns the upper and lower bounds for the\n",
    "    values in that column that signify outliers.\n",
    "    \"\"\"\n",
    "    # get q1\n",
    "    q1 = df[columns].quantile(.25)\n",
    "    # get q3\n",
    "    q3 = df[columns].quantile(.75)\n",
    "    # get iqr\n",
    "    iqr = q3 - q1\n",
    "\n",
    "    upper = q3 + (multiplier * iqr)\n",
    "    lower = q1 - (multiplier * iqr)\n",
    "    \n",
    "    upper = pd.DataFrame(upper)\n",
    "    upper.columns = ['Upper_Bound']\n",
    "    lower = pd.DataFrame(lower)\n",
    "    lower.columns = ['Lower_Bound']\n",
    "\n",
    "    bounds = pd.concat([upper, lower], axis=1)\n",
    "    bounds\n",
    "\n",
    "    return upper, lower, bounds"
   ]
  },
  {
   "cell_type": "code",
   "execution_count": 34,
   "metadata": {},
   "outputs": [
    {
     "data": {
      "text/html": [
       "<div>\n",
       "<style scoped>\n",
       "    .dataframe tbody tr th:only-of-type {\n",
       "        vertical-align: middle;\n",
       "    }\n",
       "\n",
       "    .dataframe tbody tr th {\n",
       "        vertical-align: top;\n",
       "    }\n",
       "\n",
       "    .dataframe thead th {\n",
       "        text-align: right;\n",
       "    }\n",
       "</style>\n",
       "<table border=\"1\" class=\"dataframe\">\n",
       "  <thead>\n",
       "    <tr style=\"text-align: right;\">\n",
       "      <th></th>\n",
       "      <th>Upper_Bound</th>\n",
       "      <th>Lower_Bound</th>\n",
       "    </tr>\n",
       "  </thead>\n",
       "  <tbody>\n",
       "    <tr>\n",
       "      <th>Temperature</th>\n",
       "      <td>137.70</td>\n",
       "      <td>-16.30</td>\n",
       "    </tr>\n",
       "    <tr>\n",
       "      <th>Rainfall</th>\n",
       "      <td>1.69</td>\n",
       "      <td>-0.13</td>\n",
       "    </tr>\n",
       "    <tr>\n",
       "      <th>Flyers</th>\n",
       "      <td>103.00</td>\n",
       "      <td>-23.00</td>\n",
       "    </tr>\n",
       "    <tr>\n",
       "      <th>Price</th>\n",
       "      <td>0.50</td>\n",
       "      <td>0.50</td>\n",
       "    </tr>\n",
       "    <tr>\n",
       "      <th>Sales</th>\n",
       "      <td>60.00</td>\n",
       "      <td>-10.00</td>\n",
       "    </tr>\n",
       "  </tbody>\n",
       "</table>\n",
       "</div>"
      ],
      "text/plain": [
       "             Upper_Bound  Lower_Bound\n",
       "Temperature       137.70       -16.30\n",
       "Rainfall            1.69        -0.13\n",
       "Flyers            103.00       -23.00\n",
       "Price               0.50         0.50\n",
       "Sales              60.00       -10.00"
      ]
     },
     "execution_count": 34,
     "metadata": {},
     "output_type": "execute_result"
    }
   ],
   "source": [
    "upper, lower, bounds = generate_outlier_bounds(df, columns, multiplier=3)\n",
    "bounds"
   ]
  },
  {
   "cell_type": "code",
   "execution_count": 35,
   "metadata": {},
   "outputs": [
    {
     "data": {
      "text/html": [
       "<div>\n",
       "<style scoped>\n",
       "    .dataframe tbody tr th:only-of-type {\n",
       "        vertical-align: middle;\n",
       "    }\n",
       "\n",
       "    .dataframe tbody tr th {\n",
       "        vertical-align: top;\n",
       "    }\n",
       "\n",
       "    .dataframe thead th {\n",
       "        text-align: right;\n",
       "    }\n",
       "</style>\n",
       "<table border=\"1\" class=\"dataframe\">\n",
       "  <thead>\n",
       "    <tr style=\"text-align: right;\">\n",
       "      <th></th>\n",
       "      <th>Upper_Bound</th>\n",
       "    </tr>\n",
       "  </thead>\n",
       "  <tbody>\n",
       "    <tr>\n",
       "      <th>Temperature</th>\n",
       "      <td>137.70</td>\n",
       "    </tr>\n",
       "    <tr>\n",
       "      <th>Rainfall</th>\n",
       "      <td>1.69</td>\n",
       "    </tr>\n",
       "    <tr>\n",
       "      <th>Flyers</th>\n",
       "      <td>103.00</td>\n",
       "    </tr>\n",
       "    <tr>\n",
       "      <th>Price</th>\n",
       "      <td>0.50</td>\n",
       "    </tr>\n",
       "    <tr>\n",
       "      <th>Sales</th>\n",
       "      <td>60.00</td>\n",
       "    </tr>\n",
       "  </tbody>\n",
       "</table>\n",
       "</div>"
      ],
      "text/plain": [
       "             Upper_Bound\n",
       "Temperature       137.70\n",
       "Rainfall            1.69\n",
       "Flyers            103.00\n",
       "Price               0.50\n",
       "Sales              60.00"
      ]
     },
     "execution_count": 35,
     "metadata": {},
     "output_type": "execute_result"
    }
   ],
   "source": [
    "upper"
   ]
  },
  {
   "cell_type": "code",
   "execution_count": 36,
   "metadata": {},
   "outputs": [
    {
     "data": {
      "text/html": [
       "<div>\n",
       "<style scoped>\n",
       "    .dataframe tbody tr th:only-of-type {\n",
       "        vertical-align: middle;\n",
       "    }\n",
       "\n",
       "    .dataframe tbody tr th {\n",
       "        vertical-align: top;\n",
       "    }\n",
       "\n",
       "    .dataframe thead th {\n",
       "        text-align: right;\n",
       "    }\n",
       "</style>\n",
       "<table border=\"1\" class=\"dataframe\">\n",
       "  <thead>\n",
       "    <tr style=\"text-align: right;\">\n",
       "      <th></th>\n",
       "      <th>Lower_Bound</th>\n",
       "    </tr>\n",
       "  </thead>\n",
       "  <tbody>\n",
       "    <tr>\n",
       "      <th>Temperature</th>\n",
       "      <td>-16.30</td>\n",
       "    </tr>\n",
       "    <tr>\n",
       "      <th>Rainfall</th>\n",
       "      <td>-0.13</td>\n",
       "    </tr>\n",
       "    <tr>\n",
       "      <th>Flyers</th>\n",
       "      <td>-23.00</td>\n",
       "    </tr>\n",
       "    <tr>\n",
       "      <th>Price</th>\n",
       "      <td>0.50</td>\n",
       "    </tr>\n",
       "    <tr>\n",
       "      <th>Sales</th>\n",
       "      <td>-10.00</td>\n",
       "    </tr>\n",
       "  </tbody>\n",
       "</table>\n",
       "</div>"
      ],
      "text/plain": [
       "             Lower_Bound\n",
       "Temperature       -16.30\n",
       "Rainfall           -0.13\n",
       "Flyers            -23.00\n",
       "Price               0.50\n",
       "Sales             -10.00"
      ]
     },
     "execution_count": 36,
     "metadata": {},
     "output_type": "execute_result"
    }
   ],
   "source": [
    "lower"
   ]
  },
  {
   "cell_type": "code",
   "execution_count": 37,
   "metadata": {},
   "outputs": [
    {
     "name": "stdout",
     "output_type": "stream",
     "text": [
      "Temperature\n"
     ]
    },
    {
     "data": {
      "image/png": "[encoded data removed]",
      "text/plain": [
       "<Figure size 432x288 with 1 Axes>"
      ]
     },
     "metadata": {
      "needs_background": "light"
     },
     "output_type": "display_data"
    },
    {
     "name": "stdout",
     "output_type": "stream",
     "text": [
      "Rainfall\n"
     ]
    },
    {
     "data": {
      "image/png": "[encoded data removed]",
      "text/plain": [
       "<Figure size 432x288 with 1 Axes>"
      ]
     },
     "metadata": {
      "needs_background": "light"
     },
     "output_type": "display_data"
    },
    {
     "name": "stdout",
     "output_type": "stream",
     "text": [
      "Flyers\n"
     ]
    },
    {
     "data": {
      "image/png": "[encoded data removed]",
      "text/plain": [
       "<Figure size 432x288 with 1 Axes>"
      ]
     },
     "metadata": {
      "needs_background": "light"
     },
     "output_type": "display_data"
    },
    {
     "name": "stdout",
     "output_type": "stream",
     "text": [
      "Price\n"
     ]
    },
    {
     "data": {
      "image/png": "[encoded data removed]",
      "text/plain": [
       "<Figure size 432x288 with 1 Axes>"
      ]
     },
     "metadata": {
      "needs_background": "light"
     },
     "output_type": "display_data"
    },
    {
     "name": "stdout",
     "output_type": "stream",
     "text": [
      "Sales\n"
     ]
    },
    {
     "data": {
      "image/png": "[encoded data removed]",
      "text/plain": [
       "<Figure size 432x288 with 1 Axes>"
      ]
     },
     "metadata": {
      "needs_background": "light"
     },
     "output_type": "display_data"
    }
   ],
   "source": [
    "for col in columns:\n",
    "    if np.issubdtype(df[col].dtype, np.number):\n",
    "        df[col].hist(color='chocolate', edgecolor='black')\n",
    "        print(col)\n",
    "        plt.show()"
   ]
  },
  {
   "cell_type": "code",
   "execution_count": 38,
   "metadata": {},
   "outputs": [
    {
     "name": "stdout",
     "output_type": "stream",
     "text": [
      "Temperature\n"
     ]
    },
    {
     "data": {
      "image/png": "[encoded data removed]",
      "text/plain": [
       "<Figure size 432x288 with 1 Axes>"
      ]
     },
     "metadata": {
      "needs_background": "light"
     },
     "output_type": "display_data"
    },
    {
     "name": "stdout",
     "output_type": "stream",
     "text": [
      "Rainfall\n"
     ]
    },
    {
     "data": {
      "image/png": "[encoded data removed]",
      "text/plain": [
       "<Figure size 432x288 with 1 Axes>"
      ]
     },
     "metadata": {
      "needs_background": "light"
     },
     "output_type": "display_data"
    },
    {
     "name": "stdout",
     "output_type": "stream",
     "text": [
      "Flyers\n"
     ]
    },
    {
     "data": {
      "image/png": "[encoded data removed]",
      "text/plain": [
       "<Figure size 432x288 with 1 Axes>"
      ]
     },
     "metadata": {
      "needs_background": "light"
     },
     "output_type": "display_data"
    },
    {
     "name": "stdout",
     "output_type": "stream",
     "text": [
      "Price\n"
     ]
    },
    {
     "data": {
      "image/png": "[encoded data removed]",
      "text/plain": [
       "<Figure size 432x288 with 1 Axes>"
      ]
     },
     "metadata": {
      "needs_background": "light"
     },
     "output_type": "display_data"
    },
    {
     "name": "stdout",
     "output_type": "stream",
     "text": [
      "Sales\n"
     ]
    },
    {
     "data": {
      "image/png": "[encoded data removed]",
      "text/plain": [
       "<Figure size 432x288 with 1 Axes>"
      ]
     },
     "metadata": {
      "needs_background": "light"
     },
     "output_type": "display_data"
    }
   ],
   "source": [
    "for col in columns:\n",
    "    sns.boxplot(x=col, data=df, color='indianred')\n",
    "    print(col)\n",
    "    plt.show()"
   ]
  },
  {
   "cell_type": "markdown",
   "metadata": {},
   "source": [
    "- Do these upper outliers make sense? Which outliers should be kept? \n",
    "- Do these lower outliers make sense?Which outliers should be kept?"
   ]
  },
  {
   "cell_type": "markdown",
   "metadata": {},
   "source": [
    "They do make sense.\n",
    "\n",
    "For upper I would drop:\n",
    "- Sales\n",
    "- Rainfall\n",
    "- Temp\n",
    "\n",
    "For lower I would drop:\n",
    "- Flyers"
   ]
  },
  {
   "cell_type": "markdown",
   "metadata": {},
   "source": [
    "___"
   ]
  },
  {
   "cell_type": "markdown",
   "metadata": {},
   "source": [
    "2. Identify if any columns in lemonade.csv are normally distributed. For normally distributed columns:\n",
    "\n"
   ]
  },
  {
   "cell_type": "code",
   "execution_count": 39,
   "metadata": {},
   "outputs": [],
   "source": [
    "df = pd.read_csv('lemonade.csv')"
   ]
  },
  {
   "cell_type": "markdown",
   "metadata": {},
   "source": [
    "a. Use a 2 sigma decision rule to isolate the outliers.\n"
   ]
  },
  {
   "cell_type": "code",
   "execution_count": 42,
   "metadata": {},
   "outputs": [
    {
     "name": "stdout",
     "output_type": "stream",
     "text": [
      "Temperature\n",
      "         Date       Day  Temperature  Rainfall  Flyers  Price  Sales  \\\n",
      "41    2/11/17  Saturday        212.0      0.91      35    0.5     21   \n",
      "166   6/16/17    Friday         99.3      0.47      77    0.5     41   \n",
      "176   6/26/17    Monday        102.6      0.47      60    0.5     42   \n",
      "181    7/1/17  Saturday        102.9      0.47      59    0.5    143   \n",
      "190   7/10/17    Monday         98.0      0.49      66    0.5     40   \n",
      "198   7/18/17   Tuesday         99.3      0.47      76    0.5     41   \n",
      "202   7/22/17  Saturday         99.6      0.47      49    0.5     42   \n",
      "207   7/27/17  Thursday         97.9      0.47      74    0.5     43   \n",
      "338   12/5/17   Tuesday         22.0      1.82      11    0.5     10   \n",
      "364  12/31/17    Sunday         15.1      2.50       9    0.5      7   \n",
      "\n",
      "     z_scores_Temperature  z_scores_Rainfall  z_scores_Flyers  z_scores_Price  \\\n",
      "41               8.336627           0.306792        -0.370227             NaN   \n",
      "166              2.105251          -1.299691         2.676244             NaN   \n",
      "176              2.287714          -1.299691         1.443149             NaN   \n",
      "181              2.304301          -1.299691         1.370614             NaN   \n",
      "190              2.033372          -1.226669         1.878359             NaN   \n",
      "198              2.105251          -1.299691         2.603709             NaN   \n",
      "202              2.121838          -1.299691         0.645264             NaN   \n",
      "207              2.027843          -1.299691         2.458639             NaN   \n",
      "338             -2.168799           3.629291        -2.111067             NaN   \n",
      "364             -2.550311           6.112037        -2.256137             NaN   \n",
      "\n",
      "     z_scores_Sales  \n",
      "41        -0.221847  \n",
      "166        0.424395  \n",
      "176        0.456708  \n",
      "181        3.720233  \n",
      "190        0.392083  \n",
      "198        0.424395  \n",
      "202        0.456708  \n",
      "207        0.489020  \n",
      "338       -0.577281  \n",
      "364       -0.674217  \n",
      "____________________________________________________________________________________________\n",
      "Rainfall\n",
      "         Date        Day  Temperature  Rainfall  Flyers  Price  Sales  \\\n",
      "0      1/1/17     Sunday         27.0      2.00      15    0.5     10   \n",
      "5      1/6/17     Friday         25.3      1.54      23    0.5     11   \n",
      "6      1/7/17   Saturday         32.9      1.54      19    0.5     13   \n",
      "10    1/11/17  Wednesday         32.6      1.54      23    0.5     12   \n",
      "15    1/16/17     Monday         30.6      1.67      24    0.5     12   \n",
      "16    1/17/17    Tuesday         32.2      1.43      26    0.5     14   \n",
      "19    1/20/17     Friday         31.6      1.43      20    0.5     12   \n",
      "23    1/24/17    Tuesday         28.6      1.54      20    0.5     12   \n",
      "337   12/4/17     Monday         34.9      1.54      16    0.5     13   \n",
      "338   12/5/17    Tuesday         22.0      1.82      11    0.5     10   \n",
      "342   12/9/17   Saturday         31.2      1.43      19    0.5     14   \n",
      "343  12/10/17     Sunday         31.3      1.82      15    0.5     11   \n",
      "346  12/13/17  Wednesday         32.2      1.43      26    0.5     14   \n",
      "347  12/14/17   Thursday         31.9      1.54      24    0.5     13   \n",
      "351  12/18/17     Monday         30.9      1.43      27    0.5     13   \n",
      "355  12/22/17     Friday         30.9      1.54      17    0.5     13   \n",
      "359  12/26/17    Tuesday         28.9      1.43      23    0.5     13   \n",
      "363  12/30/17   Saturday         30.9      1.43      22    0.5     13   \n",
      "364  12/31/17     Sunday         15.1      2.50       9    0.5      7   \n",
      "\n",
      "     z_scores_Temperature  z_scores_Rainfall  z_scores_Flyers  z_scores_Price  \\\n",
      "0               -1.892340           4.286488        -1.820927             NaN   \n",
      "5               -1.986336           2.606983        -1.240647             NaN   \n",
      "6               -1.566119           2.606983        -1.530787             NaN   \n",
      "10              -1.582706           2.606983        -1.240647             NaN   \n",
      "15              -1.693290           3.081626        -1.168112             NaN   \n",
      "16              -1.604823           2.205363        -1.023042             NaN   \n",
      "19              -1.637998           2.205363        -1.458252             NaN   \n",
      "23              -1.803873           2.606983        -1.458252             NaN   \n",
      "337             -1.455535           2.606983        -1.748392             NaN   \n",
      "338             -2.168799           3.629291        -2.111067             NaN   \n",
      "342             -1.660115           2.205363        -1.530787             NaN   \n",
      "343             -1.654586           3.629291        -1.820927             NaN   \n",
      "346             -1.604823           2.205363        -1.023042             NaN   \n",
      "347             -1.621411           2.606983        -1.168112             NaN   \n",
      "351             -1.676702           2.205363        -0.950507             NaN   \n",
      "355             -1.676702           2.606983        -1.675857             NaN   \n",
      "359             -1.787286           2.205363        -1.240647             NaN   \n",
      "363             -1.676702           2.205363        -1.313182             NaN   \n",
      "364             -2.550311           6.112037        -2.256137             NaN   \n",
      "\n",
      "     z_scores_Sales  \n",
      "0         -0.577281  \n",
      "5         -0.544968  \n",
      "6         -0.480344  \n",
      "10        -0.512656  \n",
      "15        -0.512656  \n",
      "16        -0.448032  \n",
      "19        -0.512656  \n",
      "23        -0.512656  \n",
      "337       -0.480344  \n",
      "338       -0.577281  \n",
      "342       -0.448032  \n",
      "343       -0.544968  \n",
      "346       -0.448032  \n",
      "347       -0.480344  \n",
      "351       -0.480344  \n",
      "355       -0.480344  \n",
      "359       -0.480344  \n",
      "363       -0.480344  \n",
      "364       -0.674217  \n",
      "____________________________________________________________________________________________\n",
      "Flyers\n",
      "         Date        Day  Temperature  Rainfall  Flyers  Price  Sales  \\\n",
      "166   6/16/17     Friday         99.3      0.47      77    0.5     41   \n",
      "170   6/20/17    Tuesday         85.1      0.54      70    0.5     37   \n",
      "171   6/21/17  Wednesday         94.3      0.47      76    0.5     41   \n",
      "182    7/2/17     Sunday         93.4      0.51      68    0.5    158   \n",
      "183    7/3/17     Monday         81.5      0.54      68    0.5    235   \n",
      "194   7/14/17     Friday         92.0      0.50      80    0.5     40   \n",
      "198   7/18/17    Tuesday         99.3      0.47      76    0.5     41   \n",
      "203   7/23/17     Sunday         89.1      0.51      72    0.5     37   \n",
      "204   7/24/17     Monday         83.5      0.57      69    0.5     35   \n",
      "207   7/27/17   Thursday         97.9      0.47      74    0.5     43   \n",
      "324  11/21/17    Tuesday         47.0      0.95     -38    0.5     20   \n",
      "338   12/5/17    Tuesday         22.0      1.82      11    0.5     10   \n",
      "364  12/31/17     Sunday         15.1      2.50       9    0.5      7   \n",
      "\n",
      "     z_scores_Temperature  z_scores_Rainfall  z_scores_Flyers  z_scores_Price  \\\n",
      "166              2.105251          -1.299691         2.676244             NaN   \n",
      "170              1.320109          -1.044114         2.168499             NaN   \n",
      "171              1.828792          -1.299691         2.603709             NaN   \n",
      "182              1.779030          -1.153647         2.023429             NaN   \n",
      "183              1.121058          -1.044114         2.023429             NaN   \n",
      "194              1.701621          -1.190158         2.893849             NaN   \n",
      "198              2.105251          -1.299691         2.603709             NaN   \n",
      "203              1.541275          -1.153647         2.313569             NaN   \n",
      "204              1.231642          -0.934581         2.095964             NaN   \n",
      "207              2.027843          -1.299691         2.458639             NaN   \n",
      "324             -0.786506           0.452836        -5.665283             NaN   \n",
      "338             -2.168799           3.629291        -2.111067             NaN   \n",
      "364             -2.550311           6.112037        -2.256137             NaN   \n",
      "\n",
      "     z_scores_Sales  \n",
      "166        0.424395  \n",
      "170        0.295147  \n",
      "171        0.424395  \n",
      "182        4.204914  \n",
      "183        6.692948  \n",
      "194        0.392083  \n",
      "198        0.424395  \n",
      "203        0.295147  \n",
      "204        0.230523  \n",
      "207        0.489020  \n",
      "324       -0.254159  \n",
      "338       -0.577281  \n",
      "364       -0.674217  \n",
      "____________________________________________________________________________________________\n",
      "Price\n",
      "Empty DataFrame\n",
      "Columns: [Date, Day, Temperature, Rainfall, Flyers, Price, Sales, z_scores_Temperature, z_scores_Rainfall, z_scores_Flyers, z_scores_Price, z_scores_Sales]\n",
      "Index: []\n",
      "____________________________________________________________________________________________\n",
      "Sales\n",
      "       Date       Day  Temperature  Rainfall  Flyers  Price  Sales  \\\n",
      "181  7/1/17  Saturday        102.9      0.47      59    0.5    143   \n",
      "182  7/2/17    Sunday         93.4      0.51      68    0.5    158   \n",
      "183  7/3/17    Monday         81.5      0.54      68    0.5    235   \n",
      "184  7/4/17   Tuesday         84.2      0.59      49    0.5    534   \n",
      "\n",
      "     z_scores_Temperature  z_scores_Rainfall  z_scores_Flyers  z_scores_Price  \\\n",
      "181              2.304301          -1.299691         1.370614             NaN   \n",
      "182              1.779030          -1.153647         2.023429             NaN   \n",
      "183              1.121058          -1.044114         2.023429             NaN   \n",
      "184              1.270346          -0.861559         0.645264             NaN   \n",
      "\n",
      "     z_scores_Sales  \n",
      "181        3.720233  \n",
      "182        4.204914  \n",
      "183        6.692948  \n",
      "184       16.354275  \n",
      "____________________________________________________________________________________________\n"
     ]
    }
   ],
   "source": [
    "for col in columns:\n",
    "    z_scores = pd.Series((df[col] - df[col].mean()) / df[col].std())\n",
    "    colname = 'z_scores_' + str(col)\n",
    "    df[colname] = z_scores\n",
    "    \n",
    "    print(col)\n",
    "    print(df[z_scores.abs() >= 2])\n",
    "    print('____________________________________________________________________________________________')"
   ]
  },
  {
   "cell_type": "code",
   "execution_count": null,
   "metadata": {},
   "outputs": [],
   "source": []
  },
  {
   "cell_type": "code",
   "execution_count": null,
   "metadata": {},
   "outputs": [],
   "source": []
  },
  {
   "cell_type": "code",
   "execution_count": null,
   "metadata": {},
   "outputs": [],
   "source": []
  },
  {
   "cell_type": "markdown",
   "metadata": {},
   "source": [
    "b. Do these make sense?\n"
   ]
  },
  {
   "cell_type": "code",
   "execution_count": null,
   "metadata": {},
   "outputs": [],
   "source": []
  },
  {
   "cell_type": "markdown",
   "metadata": {},
   "source": [
    "c. Should certain outliers be kept or removed?\n"
   ]
  },
  {
   "cell_type": "code",
   "execution_count": null,
   "metadata": {},
   "outputs": [],
   "source": []
  },
  {
   "cell_type": "markdown",
   "metadata": {},
   "source": [
    "d. Now use a 3 sigma decision rule to isolate the outliers in the normally distributed columns from lemonade.csv"
   ]
  },
  {
   "cell_type": "code",
   "execution_count": null,
   "metadata": {},
   "outputs": [],
   "source": []
  }
 ],
 "metadata": {
  "kernelspec": {
   "display_name": "Python 3",
   "language": "python",
   "name": "python3"
  },
  "language_info": {
   "codemirror_mode": {
    "name": "ipython",
    "version": 3
   },
   "file_extension": ".py",
   "mimetype": "text/x-python",
   "name": "python",
   "nbconvert_exporter": "python",
   "pygments_lexer": "ipython3",
   "version": "3.8.5"
  }
 },
 "nbformat": 4,
 "nbformat_minor": 4
}
